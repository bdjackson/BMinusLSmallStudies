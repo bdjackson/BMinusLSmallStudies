{
 "metadata": {
  "name": "",
  "signature": "sha256:a4cf31aaf73ab69d099c2707fda6b0347aecde45c9a1a54edaf4a4f569064dee"
 },
 "nbformat": 3,
 "nbformat_minor": 0,
 "worksheets": [
  {
   "cells": [
    {
     "cell_type": "code",
     "collapsed": false,
     "input": [
      "%matplotlib inline\n",
      "import matplotlib.pyplot as plt"
     ],
     "language": "python",
     "metadata": {},
     "outputs": [],
     "prompt_number": 1
    },
    {
     "cell_type": "code",
     "collapsed": false,
     "input": [
      "# Endpoints of plot:\n",
      "met_sig_min = 0.\n",
      "met_sig_max = 15.\n",
      "mbl_asym_min = 0.\n",
      "mbl_asym_max = 1.\n",
      "\n",
      "# -------------------------------------------------------\n",
      "# SR endpoints - hT > 600, Z veto\n",
      "sr_met_sig_1  = met_sig_min\n",
      "sr_met_sig_2  = 7.\n",
      "sr_mbl_asym_1 = mbl_asym_min\n",
      "sr_mbl_asym_2 = 0.6\n",
      "\n",
      "# CR top endpoints - hT < 600, Z veto\n",
      "cr_top_met_sig_1  = 7.\n",
      "cr_top_met_sig_2  = met_sig_max\n",
      "cr_top_mbl_asym_1 = 0.3\n",
      "cr_top_mbl_asym_2 = mbl_asym_max\n",
      "\n",
      "# CR Z endpoints - hT < 600, Z selected\n",
      "cr_z_met_sig_1  = sr_met_sig_1\n",
      "cr_z_met_sig_2  = sr_met_sig_2\n",
      "cr_z_mbl_asym_1 = sr_mbl_asym_1\n",
      "cr_z_mbl_asym_2 = sr_mbl_asym_2\n",
      "\n",
      "# VR 1 endpoints - hT < 600, Z veto\n",
      "vr_1_met_sig_1  = met_sig_min\n",
      "vr_1_met_sig_2  = cr_top_met_sig_1\n",
      "vr_1_mbl_asym_1 = cr_top_mbl_asym_1\n",
      "vr_1_mbl_asym_2 = cr_top_mbl_asym_2\n",
      "\n",
      "# VR 2 endpoints - hT < 600, Z veto\n",
      "vr_2_met_sig_1  = met_sig_min\n",
      "vr_2_met_sig_2  = met_sig_max\n",
      "vr_2_mbl_asym_1 = mbl_asym_min\n",
      "vr_2_mbl_asym_2 = cr_top_mbl_asym_1\n",
      "\n",
      "# VR 3 endpoints - hT < 600, Z select\n",
      "vr_3_met_sig_1  = cr_z_met_sig_2\n",
      "vr_3_met_sig_2  = met_sig_max\n",
      "vr_3_mbl_asym_1 = mbl_asym_min\n",
      "vr_3_mbl_asym_2 = cr_z_mbl_asym_2\n",
      "\n",
      "# VR 4 endpoints - hT < 600, Z select\n",
      "vr_4_met_sig_1  = met_sig_min\n",
      "vr_4_met_sig_2  = met_sig_max\n",
      "vr_4_mbl_asym_1 = cr_z_mbl_asym_2\n",
      "vr_4_mbl_asym_2 = mbl_asym_max\n",
      "\n",
      "# -------------------------------------------------------\n",
      "# Make list of points to be inputed into figures\n",
      "sr_points = [ [sr_met_sig_1, sr_mbl_asym_1]\n",
      "            , [sr_met_sig_1, sr_mbl_asym_2]\n",
      "            , [sr_met_sig_2, sr_mbl_asym_2]\n",
      "            , [sr_met_sig_2, sr_mbl_asym_1]\n",
      "            ]\n",
      "cr_top_points = [ [cr_top_met_sig_1, cr_top_mbl_asym_1]\n",
      "                , [cr_top_met_sig_1, cr_top_mbl_asym_2]\n",
      "                , [cr_top_met_sig_2, cr_top_mbl_asym_2]\n",
      "                , [cr_top_met_sig_2, cr_top_mbl_asym_1]\n",
      "                ]\n",
      "cr_z_points = [ [cr_z_met_sig_1, cr_z_mbl_asym_1]\n",
      "              , [cr_z_met_sig_1, cr_z_mbl_asym_2]\n",
      "              , [cr_z_met_sig_2, cr_z_mbl_asym_2]\n",
      "              , [cr_z_met_sig_2, cr_z_mbl_asym_1]\n",
      "              ]\n",
      "vr_1_points = [ [vr_1_met_sig_1, vr_1_mbl_asym_1]\n",
      "              , [vr_1_met_sig_1, vr_1_mbl_asym_2]\n",
      "              , [vr_1_met_sig_2, vr_1_mbl_asym_2]\n",
      "              , [vr_1_met_sig_2, vr_1_mbl_asym_1]\n",
      "              ]\n",
      "vr_2_points = [ [vr_2_met_sig_1, vr_2_mbl_asym_1]\n",
      "              , [vr_2_met_sig_1, vr_2_mbl_asym_2]\n",
      "              , [vr_2_met_sig_2, vr_2_mbl_asym_2]\n",
      "              , [vr_2_met_sig_2, vr_2_mbl_asym_1]\n",
      "              ]\n",
      "vr_3_points = [ [vr_3_met_sig_1, vr_3_mbl_asym_1]\n",
      "              , [vr_3_met_sig_1, vr_3_mbl_asym_2]\n",
      "              , [vr_3_met_sig_2, vr_3_mbl_asym_2]\n",
      "              , [vr_3_met_sig_2, vr_3_mbl_asym_1]\n",
      "              ]\n",
      "vr_4_points = [ [vr_4_met_sig_1, vr_4_mbl_asym_1]\n",
      "              , [vr_4_met_sig_1, vr_4_mbl_asym_2]\n",
      "              , [vr_4_met_sig_2, vr_4_mbl_asym_2]\n",
      "              , [vr_4_met_sig_2, vr_4_mbl_asym_1]\n",
      "              ]\n"
     ],
     "language": "python",
     "metadata": {},
     "outputs": [],
     "prompt_number": 2
    },
    {
     "cell_type": "markdown",
     "metadata": {},
     "source": [
      "Region breakdown for:\n",
      "---------------------\n",
      "\n",
      "$h_T \\ge 600$ GeV\n",
      "\n",
      "Z region: Veto"
     ]
    },
    {
     "cell_type": "code",
     "collapsed": false,
     "input": [
      "plt.axis([met_sig_min, met_sig_max, mbl_asym_min, mbl_asym_max])\n",
      "\n",
      "plt.title('Region Breakdown -- $h_{T}$ > 600 GeV and pass Z-veto')\n",
      "plt.xlabel('$E_{T}^{miss}$ significance [$GeV^{1/2}$]')\n",
      "plt.ylabel('$m_{b\\ell}$ asymmetry')\n",
      "\n",
      "sr_region = plt.Polygon(sr_points, fill='b', alpha=0.2, label = 'SR')\n",
      "plt.gca().add_patch(sr_region)\n",
      "\n",
      "plt.legend(loc='upper right')\n",
      "plt.savefig('regions__ht_ge_600__z_veto.png')\n",
      "plt.close()"
     ],
     "language": "python",
     "metadata": {},
     "outputs": [],
     "prompt_number": 3
    },
    {
     "cell_type": "markdown",
     "metadata": {},
     "source": [
      "Region breakdown for:\n",
      "---------------------\n",
      "\n",
      "$h_T \\le 600$ GeV\n",
      "\n",
      "Z region: Veto"
     ]
    },
    {
     "cell_type": "code",
     "collapsed": false,
     "input": [
      "plt.axis([met_sig_min, met_sig_max, mbl_asym_min, mbl_asym_max])\n",
      "\n",
      "plt.title('Region Breakdown -- $h_{T}$ < 600 GeV and pass Z-veto')\n",
      "plt.xlabel('$E_{T}^{miss}$ significance [$GeV^{1/2}$]')\n",
      "plt.ylabel('$m_{b\\ell}$ asymmetry')\n",
      "\n",
      "cr_top_region = plt.Polygon(cr_top_points, fc='b', alpha=0.2, label = 'CRTOP')\n",
      "vr_1_region   = plt.Polygon(vr_1_points  , fc='g', alpha=0.2, label = 'VR1'  )\n",
      "vr_2_region   = plt.Polygon(vr_2_points  , fc='r', alpha=0.2, label = 'VR2'  )\n",
      "\n",
      "plt.gca().add_patch(cr_top_region)\n",
      "plt.gca().add_patch(vr_1_region)\n",
      "plt.gca().add_patch(vr_2_region)\n",
      "\n",
      "plt.legend(loc='upper right')\n",
      "plt.savefig('regions__ht_le_600__z_veto.png')\n",
      "# plt.close()"
     ],
     "language": "python",
     "metadata": {},
     "outputs": [
      {
       "metadata": {},
       "output_type": "display_data",
       "png": "[encoded data removed]",
       "text": [
        "<matplotlib.figure.Figure at 0x1064771d0>"
       ]
      }
     ],
     "prompt_number": 5
    },
    {
     "cell_type": "markdown",
     "metadata": {},
     "source": [
      "Region breakdown for:\n",
      "---------------------\n",
      "\n",
      "$h_T \\le 600$ GeV\n",
      "\n",
      "Z region: Select"
     ]
    },
    {
     "cell_type": "code",
     "collapsed": false,
     "input": [
      "plt.axis([met_sig_min, met_sig_max, mbl_asym_min, mbl_asym_max])\n",
      "\n",
      "plt.title('Region Breakdown -- $h_{T}$ < 600 GeV and fail Z-veto')\n",
      "plt.xlabel('$E_{T}^{miss}$ significance [$GeV^{1/2}$]')\n",
      "plt.ylabel('$m_{b\\ell}$ asymmetry')\n",
      "\n",
      "cr_z_region = plt.Polygon(cr_z_points, fc='b', alpha=0.2, label = 'CRZ')\n",
      "vr_3_region = plt.Polygon(vr_3_points, fc='g', alpha=0.2, label = 'VR3')\n",
      "vr_4_region = plt.Polygon(vr_4_points, fc='r', alpha=0.2, label = 'VR4')\n",
      "\n",
      "plt.gca().add_patch(cr_z_region)\n",
      "plt.gca().add_patch(vr_3_region)\n",
      "plt.gca().add_patch(vr_4_region)\n",
      "\n",
      "plt.legend(loc='upper right')\n",
      "plt.savefig('regions__ht_le_600__z_select.png')\n",
      "# plt.close()"
     ],
     "language": "python",
     "metadata": {},
     "outputs": [
      {
       "metadata": {},
       "output_type": "display_data",
       "png": "[encoded data removed]",
       "text": [
        "<matplotlib.figure.Figure at 0x10646cd50>"
       ]
      }
     ],
     "prompt_number": 6
    },
    {
     "cell_type": "code",
     "collapsed": false,
     "input": [],
     "language": "python",
     "metadata": {},
     "outputs": [],
     "prompt_number": 5
    }
   ],
   "metadata": {}
  }
 ]
}