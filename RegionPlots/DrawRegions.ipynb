{
 "metadata": {
  "name": "",
  "signature": "sha256:09ac660ccf02f07f532c6614aed664d7e75e9145b747408868f6959d79349cda"
 },
 "nbformat": 3,
 "nbformat_minor": 0,
 "worksheets": [
  {
   "cells": [
    {
     "cell_type": "markdown",
     "metadata": {},
     "source": [
      "# DrawRegions\n",
      "This is a simple notebook which is used to show the coverage of our signal, control, and validation regions."
     ]
    },
    {
     "cell_type": "code",
     "collapsed": false,
     "input": [
      "%matplotlib inline\n",
      "import matplotlib as mp\n",
      "import matplotlib.pyplot as plt\n",
      "import numpy as np\n",
      "\n",
      "mp.rcParams['text.usetex']=True"
     ],
     "language": "python",
     "metadata": {},
     "outputs": [],
     "prompt_number": 1
    },
    {
     "cell_type": "markdown",
     "metadata": {},
     "source": [
      "## Endpoints of plot:\n",
      "This defines the upper and lower bounds of our axes."
     ]
    },
    {
     "cell_type": "code",
     "collapsed": false,
     "input": [
      "met_sig_min  = 0.\n",
      "met_sig_max  = 20.\n",
      "mbl_asym_min = 0.\n",
      "mbl_asym_max = 1.\n",
      "ht_min       = 0.\n",
      "ht_max       = 1500"
     ],
     "language": "python",
     "metadata": {},
     "outputs": [],
     "prompt_number": 2
    },
    {
     "cell_type": "code",
     "collapsed": false,
     "input": [
      "mbl_asym_cut = 0.4\n",
      "met_sig_cut  = 4    # GeV^{1/2}\n",
      "ht_cut_1     = 500  # GeV\n",
      "ht_cut_2     = 1100 # GeV"
     ],
     "language": "python",
     "metadata": {},
     "outputs": [],
     "prompt_number": 3
    },
    {
     "cell_type": "markdown",
     "metadata": {},
     "source": [
      "# Define our cut values\n",
      "## Signal Region\n",
      "### Selection:\n",
      "- Z veto\n",
      "- $h_T$ $\\ge$ ```ht_cut_1```\n",
      "- $m_{b\\ell}$ asymmetry $\\le$ ```mbl_asym_cut```"
     ]
    },
    {
     "cell_type": "code",
     "collapsed": false,
     "input": [
      "sr_met_sig_1  = met_sig_min\n",
      "sr_met_sig_2  = met_sig_max\n",
      "sr_mbl_asym_1 = mbl_asym_min\n",
      "sr_mbl_asym_2 = mbl_asym_cut\n",
      "sr_ht_1       = ht_cut_2\n",
      "sr_ht_2       = ht_max\n",
      "\n",
      "sr_points_met_mbl = [ [sr_met_sig_1, sr_mbl_asym_1]\n",
      "                    , [sr_met_sig_1, sr_mbl_asym_2]\n",
      "                    , [sr_met_sig_2, sr_mbl_asym_2]\n",
      "                    , [sr_met_sig_2, sr_mbl_asym_1]\n",
      "                    ]\n",
      "sr_points_ht_mbl = [ [sr_ht_1, sr_mbl_asym_1]\n",
      "                   , [sr_ht_1, sr_mbl_asym_2]\n",
      "                   , [sr_ht_2, sr_mbl_asym_2]\n",
      "                   , [sr_ht_2, sr_mbl_asym_1]\n",
      "                   ]"
     ],
     "language": "python",
     "metadata": {},
     "outputs": [],
     "prompt_number": 4
    },
    {
     "cell_type": "markdown",
     "metadata": {},
     "source": [
      "## Top Control Region:\n",
      "###Selection:\n",
      "- Z veto\n",
      "- $h_T$ $\\le$ ```ht_cut_1```\n",
      "- $E_T^{miss}$ significance $\\ge$ ```met_sig_cut```\n",
      "- $m_{b\\ell}$ asymmetry $\\le$ ```mbl_asym_cut```\n",
      "\n",
      "This is similar to SR:\n",
      "- Require low $h_T$ to get space between the SR and CRs\n",
      "- Apply a cut on $E_T^{miss}$ significance to reduce signal contamination in the control region"
     ]
    },
    {
     "cell_type": "code",
     "collapsed": false,
     "input": [
      "cr_top_met_sig_1  = met_sig_cut\n",
      "cr_top_met_sig_2  = met_sig_max\n",
      "cr_top_mbl_asym_1 = mbl_asym_min\n",
      "cr_top_mbl_asym_2 = mbl_asym_cut\n",
      "cr_top_ht_1       = ht_min\n",
      "cr_top_ht_2       = ht_cut_1\n",
      "\n",
      "cr_top_points_met_mbl = [ [cr_top_met_sig_1, cr_top_mbl_asym_1]\n",
      "                        , [cr_top_met_sig_1, cr_top_mbl_asym_2]\n",
      "                        , [cr_top_met_sig_2, cr_top_mbl_asym_2]\n",
      "                        , [cr_top_met_sig_2, cr_top_mbl_asym_1]\n",
      "                        ]\n",
      "cr_top_points_ht_mbl = [ [cr_top_ht_1, cr_top_mbl_asym_1]\n",
      "                       , [cr_top_ht_1, cr_top_mbl_asym_2]\n",
      "                       , [cr_top_ht_2, cr_top_mbl_asym_2]\n",
      "                       , [cr_top_ht_2, cr_top_mbl_asym_1]\n",
      "                       ]"
     ],
     "language": "python",
     "metadata": {},
     "outputs": [],
     "prompt_number": 5
    },
    {
     "cell_type": "markdown",
     "metadata": {},
     "source": [
      "## Z Control Region:\n",
      "### Selection:\n",
      "- Z Selection\n",
      "- hT $\\le$ ```ht_cut_1```\n",
      "- mbl asymmetry $\\le$ ```mbl_asym_cut```\n",
      "\n",
      "This is similar to SR:\n",
      "- Require low $h_T$ to get space between the SR and CRs\n",
      "- Reverse Z veto (require we are in the Z region)"
     ]
    },
    {
     "cell_type": "code",
     "collapsed": false,
     "input": [
      "cr_z_met_sig_1  = met_sig_min\n",
      "cr_z_met_sig_2  = met_sig_max\n",
      "cr_z_mbl_asym_1 = mbl_asym_min\n",
      "cr_z_mbl_asym_2 = mbl_asym_cut\n",
      "cr_z_ht_1       = ht_min\n",
      "cr_z_ht_2       = ht_cut_1\n",
      "\n",
      "cr_z_points_met_mbl = [ [cr_z_met_sig_1, cr_z_mbl_asym_1]\n",
      "                      , [cr_z_met_sig_1, cr_z_mbl_asym_2]\n",
      "                      , [cr_z_met_sig_2, cr_z_mbl_asym_2]\n",
      "                      , [cr_z_met_sig_2, cr_z_mbl_asym_1]\n",
      "                      ]\n",
      "cr_z_points_ht_mbl = [ [cr_z_ht_1, cr_z_mbl_asym_1]\n",
      "                     , [cr_z_ht_1, cr_z_mbl_asym_2]\n",
      "                     , [cr_z_ht_2, cr_z_mbl_asym_2]\n",
      "                     , [cr_z_ht_2, cr_z_mbl_asym_1]\n",
      "                     ]"
     ],
     "language": "python",
     "metadata": {},
     "outputs": [],
     "prompt_number": 6
    },
    {
     "cell_type": "markdown",
     "metadata": {},
     "source": [
      "## Validation Region 1\n",
      "### Selection:\n",
      "- Z veto\n",
      "- ```ht_cut_1``` $\\le$ hT $\\le$ ```ht_cut_2```\n",
      "- mbl asymmetry $\\le$ ```mbl_asym_cut```"
     ]
    },
    {
     "cell_type": "code",
     "collapsed": false,
     "input": [
      "vr_1_met_sig_1  = met_sig_min\n",
      "vr_1_met_sig_2  = met_sig_max\n",
      "vr_1_mbl_asym_1 = mbl_asym_min\n",
      "vr_1_mbl_asym_2 = mbl_asym_cut\n",
      "vr_1_ht_1       = ht_cut_1\n",
      "vr_1_ht_2       = ht_cut_2\n",
      "\n",
      "vr_1_points_met_mbl = [ [vr_1_met_sig_1, vr_1_mbl_asym_1]\n",
      "                      , [vr_1_met_sig_1, vr_1_mbl_asym_2]\n",
      "                      , [vr_1_met_sig_2, vr_1_mbl_asym_2]\n",
      "                      , [vr_1_met_sig_2, vr_1_mbl_asym_1]\n",
      "                      ]\n",
      "vr_1_points_ht_mbl = [ [vr_1_ht_1, vr_1_mbl_asym_1]\n",
      "                     , [vr_1_ht_1, vr_1_mbl_asym_2]\n",
      "                     , [vr_1_ht_2, vr_1_mbl_asym_2]\n",
      "                     , [vr_1_ht_2, vr_1_mbl_asym_1]\n",
      "                     ]"
     ],
     "language": "python",
     "metadata": {},
     "outputs": [],
     "prompt_number": 7
    },
    {
     "cell_type": "markdown",
     "metadata": {},
     "source": [
      "## Validation Region 2\n",
      "### Selection:\n",
      "- Z veto\n",
      "- ```ht_cut_1``` $\\le$ hT $\\le$ ```ht_cut_2```\n",
      "- mbl asymmetry $\\ge$ ```mbl_asym_cut```"
     ]
    },
    {
     "cell_type": "code",
     "collapsed": false,
     "input": [
      "vr_2_met_sig_1  = met_sig_min\n",
      "vr_2_met_sig_2  = met_sig_max\n",
      "vr_2_mbl_asym_1 = mbl_asym_cut\n",
      "vr_2_mbl_asym_2 = mbl_asym_max\n",
      "vr_2_ht_1       = ht_cut_1\n",
      "vr_2_ht_2       = ht_cut_2\n",
      "\n",
      "vr_2_points_met_mbl = [ [vr_2_met_sig_1, vr_2_mbl_asym_1]\n",
      "                      , [vr_2_met_sig_1, vr_2_mbl_asym_2]\n",
      "                      , [vr_2_met_sig_2, vr_2_mbl_asym_2]\n",
      "                      , [vr_2_met_sig_2, vr_2_mbl_asym_1]\n",
      "                      ]\n",
      "vr_2_points_ht_mbl = [ [vr_2_ht_1, vr_2_mbl_asym_1]\n",
      "                     , [vr_2_ht_1, vr_2_mbl_asym_2]\n",
      "                     , [vr_2_ht_2, vr_2_mbl_asym_2]\n",
      "                     , [vr_2_ht_2, vr_2_mbl_asym_1]\n",
      "                     ]"
     ],
     "language": "python",
     "metadata": {},
     "outputs": [],
     "prompt_number": 8
    },
    {
     "cell_type": "markdown",
     "metadata": {},
     "source": [
      "## Validation Region 3\n",
      "### Selection:\n",
      "- Z veto\n",
      "- hT $\\le$ ```ht_cut_1```\n",
      "- met significance $\\le$ ```met_sig_cut```\n",
      "- mbl asymmetry $\\le$ ```mbl_asym_cut```"
     ]
    },
    {
     "cell_type": "code",
     "collapsed": false,
     "input": [
      "vr_3_met_sig_1  = met_sig_min\n",
      "vr_3_met_sig_2  = met_sig_cut\n",
      "vr_3_mbl_asym_1 = mbl_asym_min\n",
      "vr_3_mbl_asym_2 = mbl_asym_cut\n",
      "vr_3_ht_1       = ht_min\n",
      "vr_3_ht_2       = ht_cut_1\n",
      "\n",
      "vr_3_points_met_mbl = [ [vr_3_met_sig_1, vr_3_mbl_asym_1]\n",
      "                      , [vr_3_met_sig_1, vr_3_mbl_asym_2]\n",
      "                      , [vr_3_met_sig_2, vr_3_mbl_asym_2]\n",
      "                      , [vr_3_met_sig_2, vr_3_mbl_asym_1]\n",
      "                      ]\n",
      "vr_3_points_ht_mbl = [ [vr_3_ht_1, vr_3_mbl_asym_1]\n",
      "                     , [vr_3_ht_1, vr_3_mbl_asym_2]\n",
      "                     , [vr_3_ht_2, vr_3_mbl_asym_2]\n",
      "                     , [vr_3_ht_2, vr_3_mbl_asym_1]\n",
      "                     ]"
     ],
     "language": "python",
     "metadata": {},
     "outputs": [],
     "prompt_number": 9
    },
    {
     "cell_type": "markdown",
     "metadata": {},
     "source": [
      "## Validation Region 4\n",
      "### veto:\n",
      "- Z selection\n",
      "- hT $\\le$ ```ht_cut_1```\n",
      "- mbl asymmetry $\\ge$ ```mbl_asym_cut```"
     ]
    },
    {
     "cell_type": "code",
     "collapsed": false,
     "input": [
      "vr_4_met_sig_1  = met_sig_min\n",
      "vr_4_met_sig_2  = met_sig_max\n",
      "vr_4_mbl_asym_1 = mbl_asym_cut\n",
      "vr_4_mbl_asym_2 = mbl_asym_max\n",
      "vr_4_ht_1       = ht_min\n",
      "vr_4_ht_2       = ht_cut_1\n",
      "\n",
      "vr_4_points_met_mbl = [ [vr_4_met_sig_1, vr_4_mbl_asym_1]\n",
      "                      , [vr_4_met_sig_1, vr_4_mbl_asym_2]\n",
      "                      , [vr_4_met_sig_2, vr_4_mbl_asym_2]\n",
      "                      , [vr_4_met_sig_2, vr_4_mbl_asym_1]\n",
      "                      ]\n",
      "vr_4_points_ht_mbl = [ [vr_4_ht_1, vr_4_mbl_asym_1]\n",
      "                     , [vr_4_ht_1, vr_4_mbl_asym_2]\n",
      "                     , [vr_4_ht_2, vr_4_mbl_asym_2]\n",
      "                     , [vr_4_ht_2, vr_4_mbl_asym_1]\n",
      "                     ]"
     ],
     "language": "python",
     "metadata": {},
     "outputs": [],
     "prompt_number": 10
    },
    {
     "cell_type": "markdown",
     "metadata": {},
     "source": [
      "## Validation Region 5\n",
      "### Selection:\n",
      "- Z selection\n",
      "- ```ht_cut_1``` $\\le$ hT $\\le$ ```ht_cut_2```\n",
      "- mbl asymmetry $\\le$ ```mbl_asym_cut```"
     ]
    },
    {
     "cell_type": "code",
     "collapsed": false,
     "input": [
      "vr_5_met_sig_1  = met_sig_min\n",
      "vr_5_met_sig_2  = met_sig_max\n",
      "vr_5_mbl_asym_1 = mbl_asym_min\n",
      "vr_5_mbl_asym_2 = mbl_asym_cut\n",
      "vr_5_ht_1       = ht_cut_1\n",
      "vr_5_ht_2       = ht_cut_2\n",
      "\n",
      "vr_5_points_met_mbl = [ [vr_5_met_sig_1, vr_5_mbl_asym_1]\n",
      "                      , [vr_5_met_sig_1, vr_5_mbl_asym_2]\n",
      "                      , [vr_5_met_sig_2, vr_5_mbl_asym_2]\n",
      "                      , [vr_5_met_sig_2, vr_5_mbl_asym_1]\n",
      "                      ]\n",
      "vr_5_points_ht_mbl = [ [vr_5_ht_1, vr_5_mbl_asym_1]\n",
      "                     , [vr_5_ht_1, vr_5_mbl_asym_2]\n",
      "                     , [vr_5_ht_2, vr_5_mbl_asym_2]\n",
      "                     , [vr_5_ht_2, vr_5_mbl_asym_1]\n",
      "                     ]"
     ],
     "language": "python",
     "metadata": {},
     "outputs": [],
     "prompt_number": 11
    },
    {
     "cell_type": "markdown",
     "metadata": {},
     "source": [
      "## Validation Region 6\n",
      "### Selection:\n",
      "- Z selection\n",
      "- ```ht_cut_1``` $\\le$ hT $\\le$ ```ht_cut_2```\n",
      "- mbl asymmetry $\\ge$ ```mbl_asym_cut```"
     ]
    },
    {
     "cell_type": "code",
     "collapsed": false,
     "input": [
      "vr_6_met_sig_1  = met_sig_min\n",
      "vr_6_met_sig_2  = met_sig_max\n",
      "vr_6_mbl_asym_1 = mbl_asym_cut\n",
      "vr_6_mbl_asym_2 = mbl_asym_max\n",
      "vr_6_ht_1       = ht_cut_1\n",
      "vr_6_ht_2       = ht_cut_2\n",
      "\n",
      "vr_6_points_met_mbl = [ [vr_6_met_sig_1, vr_6_mbl_asym_1]\n",
      "                      , [vr_6_met_sig_1, vr_6_mbl_asym_2]\n",
      "                      , [vr_6_met_sig_2, vr_6_mbl_asym_2]\n",
      "                      , [vr_6_met_sig_2, vr_6_mbl_asym_1]\n",
      "                      ]\n",
      "vr_6_points_ht_mbl = [ [vr_6_ht_1, vr_6_mbl_asym_1]\n",
      "                     , [vr_6_ht_1, vr_6_mbl_asym_2]\n",
      "                     , [vr_6_ht_2, vr_6_mbl_asym_2]\n",
      "                     , [vr_6_ht_2, vr_6_mbl_asym_1]\n",
      "                     ]"
     ],
     "language": "python",
     "metadata": {},
     "outputs": [],
     "prompt_number": 12
    },
    {
     "cell_type": "markdown",
     "metadata": {},
     "source": [
      "## Validation Region 7\n",
      "### Selection:\n",
      "- Z selection\n",
      "- hT $\\le$ ```ht_cut_1```\n",
      "- mbl asymmetry $\\ge$ ```mbl_asym_cut```"
     ]
    },
    {
     "cell_type": "code",
     "collapsed": false,
     "input": [
      "vr_7_met_sig_1  = met_sig_min\n",
      "vr_7_met_sig_2  = met_sig_max\n",
      "vr_7_mbl_asym_1 = mbl_asym_cut\n",
      "vr_7_mbl_asym_2 = mbl_asym_max\n",
      "vr_7_ht_1       = ht_min\n",
      "vr_7_ht_2       = ht_cut_1\n",
      "\n",
      "vr_7_points_met_mbl = [ [vr_7_met_sig_1, vr_7_mbl_asym_1]\n",
      "                      , [vr_7_met_sig_1, vr_7_mbl_asym_2]\n",
      "                      , [vr_7_met_sig_2, vr_7_mbl_asym_2]\n",
      "                      , [vr_7_met_sig_2, vr_7_mbl_asym_1]\n",
      "                      ]\n",
      "vr_7_points_ht_mbl = [ [vr_7_ht_1, vr_7_mbl_asym_1]\n",
      "                     , [vr_7_ht_1, vr_7_mbl_asym_2]\n",
      "                     , [vr_7_ht_2, vr_7_mbl_asym_2]\n",
      "                     , [vr_7_ht_2, vr_7_mbl_asym_1]\n",
      "                     ]"
     ],
     "language": "python",
     "metadata": {},
     "outputs": [],
     "prompt_number": 13
    },
    {
     "cell_type": "markdown",
     "metadata": {},
     "source": [
      "### Set colors"
     ]
    },
    {
     "cell_type": "code",
     "collapsed": false,
     "input": [
      "sr_color     = 'black'\n",
      "cr_top_color = 'blue'\n",
      "cr_z_color   = 'green'\n",
      "vr_1_color   = 'red'\n",
      "vr_2_color   = 'cyan'\n",
      "vr_3_color   = 'magenta'\n",
      "vr_4_color   = 'yellow'\n",
      "vr_5_color   = 'purple'\n",
      "vr_6_color   = 'firebrick'\n",
      "vr_7_color   = 'darkgoldenrod'"
     ],
     "language": "python",
     "metadata": {},
     "outputs": [],
     "prompt_number": 14
    },
    {
     "cell_type": "markdown",
     "metadata": {},
     "source": [
      "## Region breakdown in $m_{b\\ell}$-$E_T^{miss}$ significance plane:"
     ]
    },
    {
     "cell_type": "code",
     "collapsed": false,
     "input": [
      "fig = plt.figure(figsize=(20, 15))\n",
      "\n",
      "# --------------------------------------------------------------------\n",
      "plt.subplot(2,3,1)\n",
      "plt.axis([met_sig_min, met_sig_max, mbl_asym_min, mbl_asym_max])\n",
      "\n",
      "plt.title('Region Breakdown -- $h_{T} \\le$ 500 GeV and Z-veto')\n",
      "plt.xlabel('$E_{T}^{miss}$ significance [$GeV^{1/2}$]')\n",
      "plt.ylabel('$m_{b\\ell}$ asymmetry')\n",
      "\n",
      "cr_top_region = plt.Polygon(cr_top_points_met_mbl, fc=cr_top_color, alpha=0.2, label = 'CRTOP')\n",
      "vr_3_region   = plt.Polygon(vr_3_points_met_mbl  , fc=vr_3_color  , alpha=0.2, label = 'VR3'  )\n",
      "vr_4_region   = plt.Polygon(vr_4_points_met_mbl  , fc=vr_4_color  , alpha=0.2, label = 'VR4'  )\n",
      "\n",
      "plt.gca().add_patch(cr_top_region)\n",
      "plt.gca().add_patch(vr_3_region)\n",
      "plt.gca().add_patch(vr_4_region)\n",
      "\n",
      "# --------------------------------------------------------------------\n",
      "plt.subplot(2,3,2)\n",
      "plt.axis([met_sig_min, met_sig_max, mbl_asym_min, mbl_asym_max])\n",
      "\n",
      "plt.title('Region Breakdown -- 500 $\\le h_{T} \\le$ 1100 GeV and Z-veto')\n",
      "plt.xlabel('$E_{T}^{miss}$ significance [$GeV^{1/2}$]')\n",
      "plt.ylabel('$m_{b\\ell}$ asymmetry')\n",
      "\n",
      "vr_1_region   = plt.Polygon(vr_1_points_met_mbl, fc=vr_1_color, alpha=0.2, label = 'VR1'  )\n",
      "vr_2_region   = plt.Polygon(vr_2_points_met_mbl, fc=vr_2_color, alpha=0.2, label = 'VR2'  )\n",
      "\n",
      "plt.gca().add_patch(vr_1_region)\n",
      "plt.gca().add_patch(vr_2_region)\n",
      "\n",
      "# --------------------------------------------------------------------\n",
      "plt.subplot(2,3,3)\n",
      "plt.axis([met_sig_min, met_sig_max, mbl_asym_min, mbl_asym_max])\n",
      "\n",
      "plt.title('Region Breakdown -- $h_{T} \\ge$ 1100 GeV and Z-veto')\n",
      "plt.xlabel('$E_{T}^{miss}$ significance [$GeV^{1/2}$]')\n",
      "plt.ylabel('$m_{b\\ell}$ asymmetry')\n",
      "\n",
      "sr_region = plt.Polygon(sr_points_met_mbl, fc=sr_color, alpha=0.2, label = 'SR')\n",
      "plt.gca().add_patch(sr_region)\n",
      "\n",
      "# --------------------------------------------------------------------\n",
      "plt.subplot(2,3,4)\n",
      "plt.axis([met_sig_min, met_sig_max, mbl_asym_min, mbl_asym_max])\n",
      "plt.title('Region Breakdown -- $h_{T} \\le$ 500 GeV and Z-selection')\n",
      "plt.xlabel('$E_{T}^{miss}$ significance [$GeV^{1/2}$]')\n",
      "plt.ylabel('$m_{b\\ell}$ asymmetry')\n",
      "\n",
      "cr_z_region = plt.Polygon(cr_z_points_met_mbl, fc=cr_z_color, alpha=0.2, label = 'CRZ')\n",
      "vr_7_region = plt.Polygon(vr_4_points_met_mbl, fc=vr_7_color, alpha=0.2, label = 'VR7')\n",
      "\n",
      "plt.gca().add_patch(cr_z_region)\n",
      "plt.gca().add_patch(vr_7_region)\n",
      "\n",
      "# --------------------------------------------------------------------\n",
      "plt.subplot(2,3,5)\n",
      "plt.axis([met_sig_min, met_sig_max, mbl_asym_min, mbl_asym_max])\n",
      "\n",
      "plt.title('Region Breakdown -- 500 $\\le h_{T} \\le$ 1100 GeV and Z-selection')\n",
      "plt.xlabel('$E_{T}^{miss}$ significance [$GeV^{1/2}$]')\n",
      "plt.ylabel('$m_{b\\ell}$ asymmetry')\n",
      "\n",
      "vr_5_region   = plt.Polygon(vr_5_points_met_mbl, fc=vr_5_color, alpha=0.2, label = 'VR5'  )\n",
      "vr_6_region   = plt.Polygon(vr_6_points_met_mbl, fc=vr_6_color, alpha=0.2, label = 'VR6'  )\n",
      "\n",
      "plt.gca().add_patch(vr_5_region)\n",
      "plt.gca().add_patch(vr_6_region)\n",
      "\n",
      "# --------------------------------------------------------------------\n",
      "plt.legend( [ sr_region, cr_top_region, cr_z_region\n",
      "            , vr_1_region, vr_2_region, vr_3_region\n",
      "            , vr_4_region, vr_5_region, vr_6_region\n",
      "            , vr_7_region\n",
      "            ]\n",
      "          , [ 'SR' , 'CRTOP', 'CRZ'\n",
      "            , 'VR1', 'VR2'  , 'VR3'\n",
      "            , 'VR4', 'VR5'  , 'VR6'\n",
      "            , 'VR7'\n",
      "            ]\n",
      "          , bbox_to_anchor=(1.2, 1)\n",
      "          , loc=2\n",
      "          , borderaxespad=0\n",
      "          )"
     ],
     "language": "python",
     "metadata": {},
     "outputs": [
      {
       "metadata": {},
       "output_type": "pyout",
       "prompt_number": 15,
       "text": [
        "<matplotlib.legend.Legend at 0x1063a2810>"
       ]
      },
      {
       "metadata": {},
       "output_type": "display_data",
       "png": "[encoded data removed]",
       "text": [
        "<matplotlib.figure.Figure at 0x105eb7bd0>"
       ]
      }
     ],
     "prompt_number": 15
    },
    {
     "cell_type": "markdown",
     "metadata": {},
     "source": [
      "#### Write to file"
     ]
    },
    {
     "cell_type": "code",
     "collapsed": false,
     "input": [
      "fig.savefig('regions__mbl_asym__met_sig_plane.png', bbox_inches='tight', dpi=300)\n",
      "fig.savefig('regions__mbl_asym__met_sig_plane.pdf', bbox_inches='tight', format='pdf')"
     ],
     "language": "python",
     "metadata": {},
     "outputs": [],
     "prompt_number": 16
    },
    {
     "cell_type": "markdown",
     "metadata": {},
     "source": [
      "## Region breakdown in $m_{b\\ell}$-$h_T$ plane:"
     ]
    },
    {
     "cell_type": "code",
     "collapsed": false,
     "input": [
      "fig = plt.figure(figsize=(20, 15))\n",
      "\n",
      "# --------------------------------------------------------------------\n",
      "plt.subplot(2,2,1)\n",
      "plt.axis([ht_min, ht_max, mbl_asym_min, mbl_asym_max])\n",
      "\n",
      "plt.title('Region Breakdown -- $E_{T}^{miss}$ significance $\\le$ 4 GeV and Z-veto')\n",
      "plt.xlabel('$h_{T}$ [GeV]')\n",
      "plt.ylabel('$m_{b\\ell}$ asymmetry')\n",
      "\n",
      "sr_region   = plt.Polygon(sr_points_ht_mbl  , fc=sr_color  , alpha=0.2, label = 'SR' )\n",
      "vr_1_region = plt.Polygon(vr_1_points_ht_mbl, fc=vr_1_color, alpha=0.2, label = 'VR1')\n",
      "vr_2_region = plt.Polygon(vr_2_points_ht_mbl, fc=vr_2_color, alpha=0.2, label = 'VR2')\n",
      "vr_3_region = plt.Polygon(vr_3_points_ht_mbl, fc=vr_3_color, alpha=0.2, label = 'VR3')\n",
      "vr_4_region = plt.Polygon(vr_4_points_ht_mbl, fc=vr_4_color, alpha=0.2, label = 'VR4')\n",
      "\n",
      "plt.gca().add_patch(sr_region)\n",
      "plt.gca().add_patch(vr_1_region)\n",
      "plt.gca().add_patch(vr_2_region)\n",
      "plt.gca().add_patch(vr_3_region)\n",
      "plt.gca().add_patch(vr_4_region)\n",
      "\n",
      "# --------------------------------------------------------------------\n",
      "plt.subplot(2,2,2)\n",
      "plt.axis([ht_min, ht_max, mbl_asym_min, mbl_asym_max])\n",
      "\n",
      "plt.title('Region Breakdown -- $E_{T}^{miss}$ significance $\\ge$ 4 GeV and Z-veto')\n",
      "plt.xlabel('$h_{T}$ [GeV]')\n",
      "plt.ylabel('$m_{b\\ell}$ asymmetry')\n",
      "\n",
      "sr_region     = plt.Polygon(sr_points_ht_mbl    , fc=sr_color    , alpha=0.2, label = 'SR')\n",
      "cr_top_region = plt.Polygon(cr_top_points_ht_mbl, fc=cr_top_color, alpha=0.2, label = 'CRTOP')\n",
      "vr_1_region   = plt.Polygon(vr_1_points_ht_mbl  , fc=vr_1_color  , alpha=0.2, label = 'VR1'  )\n",
      "vr_2_region   = plt.Polygon(vr_2_points_ht_mbl  , fc=vr_2_color  , alpha=0.2, label = 'VR2'  )\n",
      "vr_4_region   = plt.Polygon(vr_4_points_ht_mbl  , fc=vr_4_color  , alpha=0.2, label = 'VR4'  )\n",
      "\n",
      "plt.gca().add_patch(sr_region)\n",
      "plt.gca().add_patch(cr_top_region)\n",
      "plt.gca().add_patch(vr_1_region)\n",
      "plt.gca().add_patch(vr_2_region)\n",
      "plt.gca().add_patch(vr_4_region)\n",
      "\n",
      "# --------------------------------------------------------------------\n",
      "plt.subplot(2,2,3)\n",
      "plt.axis([ht_min, ht_max, mbl_asym_min, mbl_asym_max])\n",
      "\n",
      "plt.title('Region Breakdown -- Z-selection')\n",
      "plt.xlabel('$h_{T}$ [GeV]')\n",
      "plt.ylabel('$m_{b\\ell}$ asymmetry')\n",
      "\n",
      "cr_z_region = plt.Polygon(cr_z_points_ht_mbl, fc=cr_z_color, alpha=0.2, label = 'CRZ')\n",
      "vr_5_region = plt.Polygon(vr_5_points_ht_mbl, fc=vr_5_color, alpha=0.2, label = 'VR5'  )\n",
      "vr_6_region = plt.Polygon(vr_6_points_ht_mbl, fc=vr_6_color, alpha=0.2, label = 'VR6'  )\n",
      "vr_7_region = plt.Polygon(vr_7_points_ht_mbl, fc=vr_7_color, alpha=0.2, label = 'VR7'  )\n",
      "\n",
      "plt.gca().add_patch(cr_z_region)\n",
      "plt.gca().add_patch(vr_5_region)\n",
      "plt.gca().add_patch(vr_6_region)\n",
      "plt.gca().add_patch(vr_7_region)\n",
      "\n",
      "plt.legend( [ sr_region, cr_top_region, cr_z_region\n",
      "            , vr_1_region, vr_2_region, vr_3_region\n",
      "            , vr_4_region, vr_5_region, vr_6_region\n",
      "            , vr_7_region\n",
      "            ]\n",
      "          , [ 'SR' , 'CRTOP', 'CRZ'\n",
      "            , 'VR1', 'VR2'  , 'VR3'\n",
      "            , 'VR4', 'VR5'  , 'VR6'\n",
      "            , 'VR7'\n",
      "            ]\n",
      "          , bbox_to_anchor=(1.2, 1)\n",
      "          , loc=2\n",
      "          , borderaxespad=0\n",
      "          )"
     ],
     "language": "python",
     "metadata": {},
     "outputs": [
      {
       "metadata": {},
       "output_type": "pyout",
       "prompt_number": 17,
       "text": [
        "<matplotlib.legend.Legend at 0x112908050>"
       ]
      },
      {
       "metadata": {},
       "output_type": "display_data",
       "png": "[encoded data removed]",
       "text": [
        "<matplotlib.figure.Figure at 0x106a90190>"
       ]
      }
     ],
     "prompt_number": 17
    },
    {
     "cell_type": "code",
     "collapsed": false,
     "input": [
      "fig.savefig('regions__mbl_asym__ht_plane.png', bbox_inches='tight', dpi=300)\n",
      "fig.savefig('regions__mbl_asym__ht_plane.pdf', bbox_inches='tight', format='pdf')"
     ],
     "language": "python",
     "metadata": {},
     "outputs": [],
     "prompt_number": 18
    }
   ],
   "metadata": {}
  }
 ]
}