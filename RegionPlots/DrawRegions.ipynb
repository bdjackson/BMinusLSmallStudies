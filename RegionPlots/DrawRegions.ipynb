{
 "metadata": {
  "name": "",
  "signature": "sha256:c72fd7251f62de11225ead8b1cd32c5ede45bcc46541d83ac910c4257fb9a84d"
 },
 "nbformat": 3,
 "nbformat_minor": 0,
 "worksheets": [
  {
   "cells": [
    {
     "cell_type": "markdown",
     "metadata": {},
     "source": [
      "# DrawRegions\n",
      "This is a simple notebook which is used to show the coverage of our signal, control, and validation regions."
     ]
    },
    {
     "cell_type": "code",
     "collapsed": false,
     "input": [
      "%matplotlib inline\n",
      "import matplotlib as mp\n",
      "import matplotlib.pyplot as plt\n",
      "import numpy as np\n",
      "\n",
      "mp.rcParams['text.usetex']=True"
     ],
     "language": "python",
     "metadata": {},
     "outputs": [],
     "prompt_number": 1
    },
    {
     "cell_type": "markdown",
     "metadata": {},
     "source": [
      "## Endpoints of plot:\n",
      "This defines the upper and lower bounds of our axes."
     ]
    },
    {
     "cell_type": "code",
     "collapsed": false,
     "input": [
      "met_sig_min  = 0.\n",
      "met_sig_max  = 8.\n",
      "mbl_asym_min = 0.\n",
      "mbl_asym_max = 0.5\n",
      "ht_min       = 0.\n",
      "ht_max       = 1500"
     ],
     "language": "python",
     "metadata": {},
     "outputs": [],
     "prompt_number": 2
    },
    {
     "cell_type": "code",
     "collapsed": false,
     "input": [
      "mbl_asym_cut = 0.4\n",
      "met_sig_cut  = 4    # GeV^{1/2}\n",
      "ht_cut_1     = 500  # GeV\n",
      "ht_cut_2     = 700  # GeV\n",
      "ht_cut_3     = 1100 # GeV"
     ],
     "language": "python",
     "metadata": {},
     "outputs": [],
     "prompt_number": 3
    },
    {
     "cell_type": "markdown",
     "metadata": {},
     "source": [
      "# Define our cut values\n",
      "## Signal Region\n",
      "### Selection:\n",
      "- Z veto\n",
      "- $h_T$ $\\ge$ ```ht_cut_2```\n",
      "- $m_{b\\ell}$ asymmetry $\\le$ ```mbl_asym_cut```"
     ]
    },
    {
     "cell_type": "code",
     "collapsed": false,
     "input": [
      "sr_met_sig_1  = met_sig_min\n",
      "sr_met_sig_2  = met_sig_max\n",
      "sr_mbl_asym_1 = mbl_asym_min\n",
      "sr_mbl_asym_2 = mbl_asym_cut\n",
      "sr_ht_1       = ht_cut_3\n",
      "sr_ht_2       = ht_max\n",
      "\n",
      "sr_points_met_mbl = [ [sr_met_sig_1, sr_mbl_asym_1]\n",
      "                    , [sr_met_sig_1, sr_mbl_asym_2]\n",
      "                    , [sr_met_sig_2, sr_mbl_asym_2]\n",
      "                    , [sr_met_sig_2, sr_mbl_asym_1]\n",
      "                    ]\n",
      "sr_points_ht_mbl = [ [sr_ht_1, sr_mbl_asym_1]\n",
      "                   , [sr_ht_1, sr_mbl_asym_2]\n",
      "                   , [sr_ht_2, sr_mbl_asym_2]\n",
      "                   , [sr_ht_2, sr_mbl_asym_1]\n",
      "                   ]\n",
      "sr_points_ht_met = [ [sr_ht_1, sr_met_sig_1]\n",
      "                   , [sr_ht_1, sr_met_sig_2]\n",
      "                   , [sr_ht_2, sr_met_sig_2]\n",
      "                   , [sr_ht_2, sr_met_sig_1]\n",
      "                   ]\n"
     ],
     "language": "python",
     "metadata": {},
     "outputs": [],
     "prompt_number": 4
    },
    {
     "cell_type": "markdown",
     "metadata": {},
     "source": [
      "## Top Control Region:\n",
      "###Selection:\n",
      "- Z veto\n",
      "- $h_T$ $\\le$ ```ht_cut_1```\n",
      "- $E_T^{miss}$ significance $\\ge$ ```met_sig_cut```\n",
      "- $m_{b\\ell}$ asymmetry $\\le$ ```mbl_asym_cut```\n",
      "\n",
      "This is similar to SR:\n",
      "- Require low $h_T$ to get space between the SR and CRs\n",
      "- Apply a cut on $E_T^{miss}$ significance to reduce signal contamination in the control region"
     ]
    },
    {
     "cell_type": "code",
     "collapsed": false,
     "input": [
      "cr_top_met_sig_1  = met_sig_cut\n",
      "cr_top_met_sig_2  = met_sig_max\n",
      "cr_top_mbl_asym_1 = mbl_asym_min\n",
      "cr_top_mbl_asym_2 = mbl_asym_cut\n",
      "cr_top_ht_1       = ht_min\n",
      "cr_top_ht_2       = ht_cut_1\n",
      "\n",
      "cr_top_points_met_mbl = [ [cr_top_met_sig_1, cr_top_mbl_asym_1]\n",
      "                        , [cr_top_met_sig_1, cr_top_mbl_asym_2]\n",
      "                        , [cr_top_met_sig_2, cr_top_mbl_asym_2]\n",
      "                        , [cr_top_met_sig_2, cr_top_mbl_asym_1]\n",
      "                        ]\n",
      "cr_top_points_ht_mbl = [ [cr_top_ht_1, cr_top_mbl_asym_1]\n",
      "                       , [cr_top_ht_1, cr_top_mbl_asym_2]\n",
      "                       , [cr_top_ht_2, cr_top_mbl_asym_2]\n",
      "                       , [cr_top_ht_2, cr_top_mbl_asym_1]\n",
      "                       ]\n",
      "cr_top_points_ht_met = [ [cr_top_ht_1, cr_top_met_sig_1]\n",
      "                       , [cr_top_ht_1, cr_top_met_sig_2]\n",
      "                       , [cr_top_ht_2, cr_top_met_sig_2]\n",
      "                       , [cr_top_ht_2, cr_top_met_sig_1]\n",
      "                       ]\n"
     ],
     "language": "python",
     "metadata": {},
     "outputs": [],
     "prompt_number": 5
    },
    {
     "cell_type": "markdown",
     "metadata": {},
     "source": [
      "## Z Control Region:\n",
      "### Selection:\n",
      "- Z Selection\n",
      "- hT $\\le$ ```ht_cut_1```\n",
      "- mbl asymmetry $\\le$ ```mbl_asym_cut```\n",
      "\n",
      "This is similar to SR:\n",
      "- Require low $h_T$ to get space between the SR and CRs\n",
      "- Reverse Z veto (require we are in the Z region)"
     ]
    },
    {
     "cell_type": "code",
     "collapsed": false,
     "input": [
      "cr_z_met_sig_1  = met_sig_min\n",
      "cr_z_met_sig_2  = met_sig_max\n",
      "cr_z_mbl_asym_1 = mbl_asym_min\n",
      "cr_z_mbl_asym_2 = mbl_asym_cut\n",
      "cr_z_ht_1       = ht_min\n",
      "cr_z_ht_2       = ht_cut_1\n",
      "\n",
      "cr_z_points_met_mbl = [ [cr_z_met_sig_1, cr_z_mbl_asym_1]\n",
      "                      , [cr_z_met_sig_1, cr_z_mbl_asym_2]\n",
      "                      , [cr_z_met_sig_2, cr_z_mbl_asym_2]\n",
      "                      , [cr_z_met_sig_2, cr_z_mbl_asym_1]\n",
      "                      ]\n",
      "cr_z_points_ht_mbl = [ [cr_z_ht_1, cr_z_mbl_asym_1]\n",
      "                     , [cr_z_ht_1, cr_z_mbl_asym_2]\n",
      "                     , [cr_z_ht_2, cr_z_mbl_asym_2]\n",
      "                     , [cr_z_ht_2, cr_z_mbl_asym_1]\n",
      "                     ]\n",
      "cr_z_points_ht_met = [ [cr_z_ht_1, cr_z_met_sig_1]\n",
      "                     , [cr_z_ht_1, cr_z_met_sig_2]\n",
      "                     , [cr_z_ht_2, cr_z_met_sig_2]\n",
      "                     , [cr_z_ht_2, cr_z_met_sig_1]\n",
      "                     ]\n"
     ],
     "language": "python",
     "metadata": {},
     "outputs": [],
     "prompt_number": 6
    },
    {
     "cell_type": "markdown",
     "metadata": {},
     "source": [
      "## Validation Region Top\n",
      "### Selection:\n",
      "- Z veto\n",
      "- hT $\\le$ ```ht_cut_1```\n",
      "- met significance $\\le$ ```met_sig_cut```\n",
      "- mbl asymmetry $\\le$ ```mbl_asym_cut```"
     ]
    },
    {
     "cell_type": "code",
     "collapsed": false,
     "input": [
      "vr_top_met_sig_1  = met_sig_min\n",
      "vr_top_met_sig_2  = met_sig_cut\n",
      "vr_top_mbl_asym_1 = mbl_asym_min\n",
      "vr_top_mbl_asym_2 = mbl_asym_cut\n",
      "vr_top_ht_1       = ht_min\n",
      "vr_top_ht_2       = ht_cut_1\n",
      "\n",
      "vr_top_points_met_mbl = [ [vr_top_met_sig_1, vr_top_mbl_asym_1]\n",
      "                        , [vr_top_met_sig_1, vr_top_mbl_asym_2]\n",
      "                        , [vr_top_met_sig_2, vr_top_mbl_asym_2]\n",
      "                        , [vr_top_met_sig_2, vr_top_mbl_asym_1]\n",
      "                        ]\n",
      "vr_top_points_ht_mbl = [ [vr_top_ht_1, vr_top_mbl_asym_1]\n",
      "                       , [vr_top_ht_1, vr_top_mbl_asym_2]\n",
      "                       , [vr_top_ht_2, vr_top_mbl_asym_2]\n",
      "                       , [vr_top_ht_2, vr_top_mbl_asym_1]\n",
      "                       ]\n",
      "vr_top_points_ht_met = [ [vr_top_ht_1, vr_top_met_sig_1]\n",
      "                       , [vr_top_ht_1, vr_top_met_sig_2]\n",
      "                       , [vr_top_ht_2, vr_top_met_sig_2]\n",
      "                       , [vr_top_ht_2, vr_top_met_sig_1]\n",
      "                       ]\n"
     ],
     "language": "python",
     "metadata": {},
     "outputs": [],
     "prompt_number": 7
    },
    {
     "cell_type": "markdown",
     "metadata": {},
     "source": [
      "## Validation Region Z\n",
      "### Selection:\n",
      "- Z selection\n",
      "- ```ht_cut_1``` $\\le$ hT $\\le$ ```ht_cut_3```\n",
      "- mbl asymmetry $\\le$ ```mbl_asym_cut```"
     ]
    },
    {
     "cell_type": "code",
     "collapsed": false,
     "input": [
      "vr_z_met_sig_1  = met_sig_min\n",
      "vr_z_met_sig_2  = met_sig_max\n",
      "vr_z_mbl_asym_1 = mbl_asym_min\n",
      "vr_z_mbl_asym_2 = mbl_asym_cut\n",
      "vr_z_ht_1       = ht_cut_1\n",
      "vr_z_ht_2       = ht_cut_3\n",
      "\n",
      "vr_z_points_met_mbl = [ [vr_z_met_sig_1, vr_z_mbl_asym_1]\n",
      "                      , [vr_z_met_sig_1, vr_z_mbl_asym_2]\n",
      "                      , [vr_z_met_sig_2, vr_z_mbl_asym_2]\n",
      "                      , [vr_z_met_sig_2, vr_z_mbl_asym_1]\n",
      "                      ]\n",
      "vr_z_points_ht_mbl = [ [vr_z_ht_1, vr_z_mbl_asym_1]\n",
      "                     , [vr_z_ht_1, vr_z_mbl_asym_2]\n",
      "                     , [vr_z_ht_2, vr_z_mbl_asym_2]\n",
      "                     , [vr_z_ht_2, vr_z_mbl_asym_1]\n",
      "                     ]\n",
      "vr_z_points_ht_met = [ [vr_z_ht_1, vr_z_met_sig_1]\n",
      "                     , [vr_z_ht_1, vr_z_met_sig_2]\n",
      "                     , [vr_z_ht_2, vr_z_met_sig_2]\n",
      "                     , [vr_z_ht_2, vr_z_met_sig_1]\n",
      "                     ]\n"
     ],
     "language": "python",
     "metadata": {},
     "outputs": [],
     "prompt_number": 8
    },
    {
     "cell_type": "markdown",
     "metadata": {},
     "source": [
      "### Set colors"
     ]
    },
    {
     "cell_type": "code",
     "collapsed": false,
     "input": [
      "sr_color     = 'blue'\n",
      "cr_top_color = 'green'\n",
      "cr_z_color   = 'red'\n",
      "vr_top_color = 'cyan'\n",
      "vr_z_color   = '#FF6600'  # orange"
     ],
     "language": "python",
     "metadata": {},
     "outputs": [],
     "prompt_number": 9
    },
    {
     "cell_type": "markdown",
     "metadata": {},
     "source": [
      "## Region breakdown in $m_{b\\ell}$-$E_T^{miss}$ significance plane:"
     ]
    },
    {
     "cell_type": "code",
     "collapsed": false,
     "input": [
      "fig = plt.figure(figsize=(20, 15))\n",
      "\n",
      "# --------------------------------------------------------------------\n",
      "plt.subplot(2,3,1)\n",
      "plt.axis([met_sig_min, met_sig_max, mbl_asym_min, mbl_asym_max])\n",
      "\n",
      "plt.title('Region Breakdown -- $h_{T} \\le$ 500 GeV and Z-veto')\n",
      "plt.xlabel('$E_{T}^{miss}$ significance [$GeV^{1/2}$]')\n",
      "plt.ylabel('$m_{b\\ell}$ asymmetry')\n",
      "\n",
      "cr_top_region = plt.Polygon(cr_top_points_met_mbl, fc=cr_top_color, alpha=0.5, label = 'CRTOP')\n",
      "vr_top_region = plt.Polygon(vr_top_points_met_mbl, fc=vr_top_color, alpha=0.5, label = 'VRTOP')\n",
      "\n",
      "plt.gca().add_patch(cr_top_region)\n",
      "plt.gca().add_patch(vr_top_region)\n",
      "\n",
      "# --------------------------------------------------------------------\n",
      "plt.subplot(2,3,2)\n",
      "plt.axis([met_sig_min, met_sig_max, mbl_asym_min, mbl_asym_max])\n",
      "\n",
      "plt.title('Region Breakdown -- 500 $\\le h_{T} \\le$ 1100 GeV and Z-veto')\n",
      "plt.xlabel('$E_{T}^{miss}$ significance [$GeV^{1/2}$]')\n",
      "plt.ylabel('$m_{b\\ell}$ asymmetry')\n",
      "\n",
      "# --------------------------------------------------------------------\n",
      "plt.subplot(2,3,3)\n",
      "plt.axis([met_sig_min, met_sig_max, mbl_asym_min, mbl_asym_max])\n",
      "\n",
      "plt.title('Region Breakdown -- $h_{T} \\ge$ 1100 GeV and Z-veto')\n",
      "plt.xlabel('$E_{T}^{miss}$ significance [$GeV^{1/2}$]')\n",
      "plt.ylabel('$m_{b\\ell}$ asymmetry')\n",
      "\n",
      "sr_region = plt.Polygon(sr_points_met_mbl, fc=sr_color, alpha=0.5, label = 'SR')\n",
      "plt.gca().add_patch(sr_region)\n",
      "\n",
      "# --------------------------------------------------------------------\n",
      "plt.subplot(2,3,4)\n",
      "plt.axis([met_sig_min, met_sig_max, mbl_asym_min, mbl_asym_max])\n",
      "plt.title('Region Breakdown -- $h_{T} \\le$ 500 GeV and Z-selection')\n",
      "plt.xlabel('$E_{T}^{miss}$ significance [$GeV^{1/2}$]')\n",
      "plt.ylabel('$m_{b\\ell}$ asymmetry')\n",
      "\n",
      "cr_z_region = plt.Polygon(cr_z_points_met_mbl, fc=cr_z_color, alpha=0.5, label = 'CRZ')\n",
      "\n",
      "plt.gca().add_patch(cr_z_region)\n",
      "\n",
      "# --------------------------------------------------------------------\n",
      "plt.subplot(2,3,5)\n",
      "plt.axis([met_sig_min, met_sig_max, mbl_asym_min, mbl_asym_max])\n",
      "\n",
      "plt.title('Region Breakdown -- 500 $\\le h_{T} \\le$ 1100 GeV and Z-selection')\n",
      "plt.xlabel('$E_{T}^{miss}$ significance [$GeV^{1/2}$]')\n",
      "plt.ylabel('$m_{b\\ell}$ asymmetry')\n",
      "\n",
      "vr_z_region   = plt.Polygon(vr_z_points_met_mbl, fc=vr_z_color, alpha=0.5, label = 'VRZ')\n",
      "\n",
      "plt.gca().add_patch(vr_z_region)\n",
      "\n",
      "# --------------------------------------------------------------------\n",
      "plt.legend( [ sr_region\n",
      "            , cr_top_region\n",
      "            , cr_z_region\n",
      "            , vr_top_region\n",
      "            , vr_z_region\n",
      "            ]\n",
      "          , [ 'SR'\n",
      "            , 'CRTOP'\n",
      "            , 'CRZ'\n",
      "            , 'VRTOP'\n",
      "            , 'VRZ'\n",
      "            ]\n",
      "          , bbox_to_anchor=(1.2, 1)\n",
      "          , loc=2\n",
      "          , borderaxespad=0\n",
      "          )"
     ],
     "language": "python",
     "metadata": {},
     "outputs": [
      {
       "metadata": {},
       "output_type": "pyout",
       "prompt_number": 10,
       "text": [
        "<matplotlib.legend.Legend at 0x106283990>"
       ]
      },
      {
       "metadata": {},
       "output_type": "display_data",
       "png": "[encoded data removed]",
       "text": [
        "<matplotlib.figure.Figure at 0x105ed30d0>"
       ]
      }
     ],
     "prompt_number": 10
    },
    {
     "cell_type": "markdown",
     "metadata": {},
     "source": [
      "#### Write to file"
     ]
    },
    {
     "cell_type": "code",
     "collapsed": false,
     "input": [
      "fig.savefig('regions__mbl_asym__met_sig_plane.png', bbox_inches='tight', dpi=300)\n",
      "fig.savefig('regions__mbl_asym__met_sig_plane.pdf', bbox_inches='tight', format='pdf')"
     ],
     "language": "python",
     "metadata": {},
     "outputs": [],
     "prompt_number": 11
    },
    {
     "cell_type": "markdown",
     "metadata": {},
     "source": [
      "## Region breakdown in $m_{b\\ell}$-$h_T$ plane:"
     ]
    },
    {
     "cell_type": "code",
     "collapsed": false,
     "input": [
      "fig = plt.figure(figsize=(20, 15))\n",
      "\n",
      "# --------------------------------------------------------------------\n",
      "plt.subplot(2,2,1)\n",
      "plt.axis([ht_min, ht_max, mbl_asym_min, mbl_asym_max])\n",
      "\n",
      "plt.title('Region Breakdown -- $E_{T}^{miss}$ significance $\\le$ 4 GeV and Z-veto')\n",
      "plt.xlabel('$h_{T}$ [GeV]')\n",
      "plt.ylabel('$m_{b\\ell}$ asymmetry')\n",
      "\n",
      "sr_region     = plt.Polygon(sr_points_ht_mbl    , fc=sr_color    , alpha=0.5, label = 'SR' )\n",
      "vr_top_region = plt.Polygon(vr_top_points_ht_mbl, fc=vr_top_color, alpha=0.5, label = 'VRTOP')\n",
      "\n",
      "plt.gca().add_patch(sr_region)\n",
      "plt.gca().add_patch(vr_top_region)\n",
      "\n",
      "# --------------------------------------------------------------------\n",
      "plt.subplot(2,2,2)\n",
      "plt.axis([ht_min, ht_max, mbl_asym_min, mbl_asym_max])\n",
      "\n",
      "plt.title('Region Breakdown -- $E_{T}^{miss}$ significance $\\ge$ 4 GeV and Z-veto')\n",
      "plt.xlabel('$h_{T}$ [GeV]')\n",
      "plt.ylabel('$m_{b\\ell}$ asymmetry')\n",
      "\n",
      "sr_region     = plt.Polygon(sr_points_ht_mbl    , fc=sr_color    , alpha=0.5, label = 'SR')\n",
      "cr_top_region = plt.Polygon(cr_top_points_ht_mbl, fc=cr_top_color, alpha=0.5, label = 'CRTOP')\n",
      "\n",
      "plt.gca().add_patch(sr_region)\n",
      "plt.gca().add_patch(cr_top_region)\n",
      "\n",
      "# --------------------------------------------------------------------\n",
      "plt.subplot(2,2,3)\n",
      "plt.axis([ht_min, ht_max, mbl_asym_min, mbl_asym_max])\n",
      "\n",
      "plt.title('Region Breakdown -- Z-selection')\n",
      "plt.xlabel('$h_{T}$ [GeV]')\n",
      "plt.ylabel('$m_{b\\ell}$ asymmetry')\n",
      "\n",
      "cr_z_region = plt.Polygon(cr_z_points_ht_mbl, fc=cr_z_color, alpha=0.5, label = 'CRZ')\n",
      "vr_z_region = plt.Polygon(vr_z_points_ht_mbl, fc=vr_z_color, alpha=0.5, label = 'VRZ')\n",
      "\n",
      "plt.gca().add_patch(cr_z_region)\n",
      "plt.gca().add_patch(vr_z_region)\n",
      "\n",
      "plt.legend( [ sr_region\n",
      "            , cr_top_region\n",
      "            , cr_z_region\n",
      "            , vr_top_region\n",
      "            , vr_z_region\n",
      "            ]\n",
      "          , [ 'SR'\n",
      "            , 'CRTOP'\n",
      "            , 'CRZ'\n",
      "            , 'VRTOP'\n",
      "            , 'VRZ'\n",
      "            ]\n",
      "          , bbox_to_anchor=(1.2, 1)\n",
      "          , loc=2\n",
      "          , borderaxespad=0\n",
      "          )"
     ],
     "language": "python",
     "metadata": {},
     "outputs": [
      {
       "metadata": {},
       "output_type": "pyout",
       "prompt_number": 12,
       "text": [
        "<matplotlib.legend.Legend at 0x112492e10>"
       ]
      },
      {
       "metadata": {},
       "output_type": "display_data",
       "png": "[encoded data removed]",
       "text": [
        "<matplotlib.figure.Figure at 0x1068fbad0>"
       ]
      }
     ],
     "prompt_number": 12
    },
    {
     "cell_type": "code",
     "collapsed": false,
     "input": [
      "fig.savefig('regions__mbl_asym__ht_plane.png', bbox_inches='tight', dpi=300)\n",
      "fig.savefig('regions__mbl_asym__ht_plane.pdf', bbox_inches='tight', format='pdf')"
     ],
     "language": "python",
     "metadata": {},
     "outputs": [],
     "prompt_number": 13
    },
    {
     "cell_type": "markdown",
     "metadata": {},
     "source": [
      "## Region breakdown in $E_T^{miss}$ significance-$h_T$ plane:\n"
     ]
    },
    {
     "cell_type": "code",
     "collapsed": false,
     "input": [
      "fig = plt.figure(figsize=(20, 5))\n",
      "\n",
      "# --------------------------------------------------------------------\n",
      "plt.subplot(1,3,1)\n",
      "plt.axis([ht_min, ht_max, met_sig_min, met_sig_max])\n",
      "\n",
      "plt.title('Region Breakdown -- $m_{b\\ell}$ asymmetry $\\le$ 0.4 and Z-veto')\n",
      "plt.xlabel('$h_{T}$ [GeV]')\n",
      "plt.ylabel('$E_{T}^{miss}$ significance [$GeV^{1/2}$]')\n",
      "\n",
      "sr_region     = plt.Polygon(sr_points_ht_met    , fc=sr_color    , alpha=0.5, label = 'SR'   )\n",
      "cr_top_region = plt.Polygon(cr_top_points_ht_met, fc=cr_top_color, alpha=0.5, label = 'CRTOP')\n",
      "vr_top_region = plt.Polygon(vr_top_points_ht_met, fc=vr_top_color, alpha=0.5, label = 'VRTOP')\n",
      "\n",
      "plt.gca().add_patch(sr_region)\n",
      "plt.gca().add_patch(cr_top_region)\n",
      "plt.gca().add_patch(vr_top_region)\n",
      "\n",
      "# --------------------------------------------------------------------\n",
      "plt.subplot(1,3,2)\n",
      "plt.axis([ht_min, ht_max, met_sig_min, met_sig_max])\n",
      "\n",
      "plt.title('Region Breakdown -- $m_{b\\ell}$ asymmetry $\\le$ 0.4 and Z-selection')\n",
      "plt.xlabel('$h_{T}$ [GeV]')\n",
      "plt.ylabel('$E_{T}^{miss}$ significance [$GeV^{1/2}$]')\n",
      "\n",
      "cr_z_region = plt.Polygon(cr_z_points_ht_met, fc=cr_z_color, alpha=0.5, label = 'CRZ')\n",
      "vr_z_region = plt.Polygon(vr_z_points_ht_met, fc=vr_z_color, alpha=0.5, label = 'VRZ')\n",
      "\n",
      "plt.gca().add_patch(cr_z_region)\n",
      "plt.gca().add_patch(vr_z_region)\n",
      "\n",
      "# --------------------------------------------------------------------\n",
      "plt.legend( [ sr_region\n",
      "            , cr_top_region\n",
      "            , cr_z_region\n",
      "            , vr_top_region\n",
      "            , vr_z_region\n",
      "            ]\n",
      "          , [ 'SR'\n",
      "            , 'CRTOP'\n",
      "            , 'CRZ'\n",
      "            , 'VRTOP'\n",
      "            , 'VRZ'\n",
      "            ]\n",
      "          , bbox_to_anchor=(1.2, 1)\n",
      "          , loc=2\n",
      "          , borderaxespad=0\n",
      "          )"
     ],
     "language": "python",
     "metadata": {},
     "outputs": [
      {
       "metadata": {},
       "output_type": "pyout",
       "prompt_number": 14,
       "text": [
        "<matplotlib.legend.Legend at 0x10db2a550>"
       ]
      },
      {
       "metadata": {},
       "output_type": "display_data",
       "png": "[encoded data removed]",
       "text": [
        "<matplotlib.figure.Figure at 0x1124451d0>"
       ]
      }
     ],
     "prompt_number": 14
    },
    {
     "cell_type": "code",
     "collapsed": false,
     "input": [
      "fig.savefig('regions__met_sig__ht_plane.png', bbox_inches='tight', dpi=300)\n",
      "fig.savefig('regions__met_sig__ht_plane.pdf', bbox_inches='tight', format='pdf')"
     ],
     "language": "python",
     "metadata": {},
     "outputs": [],
     "prompt_number": 15
    },
    {
     "cell_type": "code",
     "collapsed": false,
     "input": [],
     "language": "python",
     "metadata": {},
     "outputs": [],
     "prompt_number": 15
    }
   ],
   "metadata": {}
  }
 ]
}