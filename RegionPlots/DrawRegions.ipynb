{
 "metadata": {
  "name": "",
  "signature": "sha256:90c9930bc24af8a850953dc785e3e90ad5a3f958c48ec6b95c8835a8d03e4ec5"
 },
 "nbformat": 3,
 "nbformat_minor": 0,
 "worksheets": [
  {
   "cells": [
    {
     "cell_type": "code",
     "collapsed": false,
     "input": [
      "%matplotlib inline\n",
      "import matplotlib.pyplot as plt"
     ],
     "language": "python",
     "metadata": {},
     "outputs": [],
     "prompt_number": 1
    },
    {
     "cell_type": "markdown",
     "metadata": {},
     "source": [
      "## Endpoints of plot:"
     ]
    },
    {
     "cell_type": "code",
     "collapsed": false,
     "input": [
      "met_sig_min = 0.\n",
      "met_sig_max = 20.\n",
      "mbl_asym_min = 0.\n",
      "mbl_asym_max = 1."
     ],
     "language": "python",
     "metadata": {},
     "outputs": [],
     "prompt_number": 2
    },
    {
     "cell_type": "markdown",
     "metadata": {},
     "source": [
      "## Signal Region\n",
      "### Selection:\n",
      "- Z veto\n",
      "- hT > 1100 GeV\n",
      "- met significance < 10 GeV^{1/2}\n",
      "- mbl asymmetry < 0.4"
     ]
    },
    {
     "cell_type": "code",
     "collapsed": false,
     "input": [
      "sr_met_sig_1  = met_sig_min\n",
      "sr_met_sig_2  = 10.\n",
      "sr_mbl_asym_1 = mbl_asym_min\n",
      "sr_mbl_asym_2 = 0.4\n",
      "\n",
      "sr_points = [ [sr_met_sig_1, sr_mbl_asym_1]\n",
      "            , [sr_met_sig_1, sr_mbl_asym_2]\n",
      "            , [sr_met_sig_2, sr_mbl_asym_2]\n",
      "            , [sr_met_sig_2, sr_mbl_asym_1]\n",
      "            ]"
     ],
     "language": "python",
     "metadata": {},
     "outputs": [],
     "prompt_number": 3
    },
    {
     "cell_type": "markdown",
     "metadata": {},
     "source": [
      "## Top Control Region:\n",
      "###Selection:\n",
      "- Z veto\n",
      "- hT < 1100 GeV\n",
      "- 2 < met significance < 10 GeV^{1/2}\n",
      "- mbl asymmetry < 0.4\n",
      "\n",
      "This is very similar to SR:\n",
      "- Reverese the hT cut\n",
      "- Increase the met significance cut from 0 to 2 (This is used to reduce signal contamination)"
     ]
    },
    {
     "cell_type": "code",
     "collapsed": false,
     "input": [
      "cr_top_met_sig_1  = 2.\n",
      "cr_top_met_sig_2  = sr_met_sig_2\n",
      "cr_top_mbl_asym_1 = sr_mbl_asym_1\n",
      "cr_top_mbl_asym_2 = sr_mbl_asym_2\n",
      "\n",
      "cr_top_points = [ [cr_top_met_sig_1, cr_top_mbl_asym_1]\n",
      "                , [cr_top_met_sig_1, cr_top_mbl_asym_2]\n",
      "                , [cr_top_met_sig_2, cr_top_mbl_asym_2]\n",
      "                , [cr_top_met_sig_2, cr_top_mbl_asym_1]\n",
      "                ]"
     ],
     "language": "python",
     "metadata": {},
     "outputs": [],
     "prompt_number": 4
    },
    {
     "cell_type": "markdown",
     "metadata": {},
     "source": [
      "## Z Control Region:\n",
      "### Selection:\n",
      "- Z Selection\n",
      "- hT < 1100 GeV\n",
      "- met significance < 10 GeV^{1/2}\n",
      "- mbl asymmetry < 0.4\n",
      "\n",
      "This is very similar to SR:\n",
      "- Reverese the hT cut\n",
      "- Reverse Z veto (require we are in the Z region)"
     ]
    },
    {
     "cell_type": "code",
     "collapsed": false,
     "input": [
      "cr_z_met_sig_1  = sr_met_sig_1\n",
      "cr_z_met_sig_2  = sr_met_sig_2\n",
      "cr_z_mbl_asym_1 = sr_mbl_asym_1\n",
      "cr_z_mbl_asym_2 = sr_mbl_asym_2\n",
      "\n",
      "cr_z_points = [ [cr_z_met_sig_1, cr_z_mbl_asym_1]\n",
      "              , [cr_z_met_sig_1, cr_z_mbl_asym_2]\n",
      "              , [cr_z_met_sig_2, cr_z_mbl_asym_2]\n",
      "              , [cr_z_met_sig_2, cr_z_mbl_asym_1]\n",
      "              ]"
     ],
     "language": "python",
     "metadata": {},
     "outputs": [],
     "prompt_number": 5
    },
    {
     "cell_type": "markdown",
     "metadata": {},
     "source": [
      "## Validation Region 1\n",
      "### Selection:\n",
      "- Z veto\n",
      "- hT < 1100 GeV\n",
      "- met significance < 2 GeV^{1/2}\n",
      "- mbl asymmetry < 0.4"
     ]
    },
    {
     "cell_type": "code",
     "collapsed": false,
     "input": [
      "vr_1_met_sig_1  = met_sig_min\n",
      "vr_1_met_sig_2  = cr_top_met_sig_1\n",
      "vr_1_mbl_asym_1 = cr_top_mbl_asym_1\n",
      "vr_1_mbl_asym_2 = cr_top_mbl_asym_2\n",
      "\n",
      "vr_1_points = [ [vr_1_met_sig_1, vr_1_mbl_asym_1]\n",
      "              , [vr_1_met_sig_1, vr_1_mbl_asym_2]\n",
      "              , [vr_1_met_sig_2, vr_1_mbl_asym_2]\n",
      "              , [vr_1_met_sig_2, vr_1_mbl_asym_1]\n",
      "              ]"
     ],
     "language": "python",
     "metadata": {},
     "outputs": [],
     "prompt_number": 6
    },
    {
     "cell_type": "markdown",
     "metadata": {},
     "source": [
      "## Validation Region 2\n",
      "### Selection:\n",
      "- Z veto\n",
      "- hT < 1100 GeV\n",
      "- met significance > 10 GeV^{1/2}\n",
      "- mbl asymmetry < 0.4"
     ]
    },
    {
     "cell_type": "code",
     "collapsed": false,
     "input": [
      "vr_2_met_sig_1  = cr_top_met_sig_2\n",
      "vr_2_met_sig_2  = met_sig_max\n",
      "vr_2_mbl_asym_1 = cr_top_mbl_asym_1\n",
      "vr_2_mbl_asym_2 = cr_top_mbl_asym_2\n",
      "\n",
      "vr_2_points = [ [vr_2_met_sig_1, vr_2_mbl_asym_1]\n",
      "              , [vr_2_met_sig_1, vr_2_mbl_asym_2]\n",
      "              , [vr_2_met_sig_2, vr_2_mbl_asym_2]\n",
      "              , [vr_2_met_sig_2, vr_2_mbl_asym_1]\n",
      "              ]"
     ],
     "language": "python",
     "metadata": {},
     "outputs": [],
     "prompt_number": 7
    },
    {
     "cell_type": "markdown",
     "metadata": {},
     "source": [
      "## Validation Region 3\n",
      "### Selection:\n",
      "- Z veto\n",
      "- hT < 1100 GeV\n",
      "- mbl asymmetry > 0.4"
     ]
    },
    {
     "cell_type": "code",
     "collapsed": false,
     "input": [
      "vr_3_met_sig_1  = met_sig_min\n",
      "vr_3_met_sig_2  = met_sig_max\n",
      "vr_3_mbl_asym_1 = cr_top_mbl_asym_2\n",
      "vr_3_mbl_asym_2 = mbl_asym_max\n",
      "\n",
      "vr_3_points = [ [vr_3_met_sig_1, vr_3_mbl_asym_1]\n",
      "              , [vr_3_met_sig_1, vr_3_mbl_asym_2]\n",
      "              , [vr_3_met_sig_2, vr_3_mbl_asym_2]\n",
      "              , [vr_3_met_sig_2, vr_3_mbl_asym_1]\n",
      "              ]"
     ],
     "language": "python",
     "metadata": {},
     "outputs": [],
     "prompt_number": 8
    },
    {
     "cell_type": "markdown",
     "metadata": {},
     "source": [
      "## Validation Region 4\n",
      "### Selection:\n",
      "- Z selection\n",
      "- hT < 1100 GeV\n",
      "- met significance > 10 GeV^{1/2}\n",
      "- mbl asymmetry < 0.4"
     ]
    },
    {
     "cell_type": "code",
     "collapsed": false,
     "input": [
      "vr_4_met_sig_1  = cr_z_met_sig_2\n",
      "vr_4_met_sig_2  = met_sig_max\n",
      "vr_4_mbl_asym_1 = cr_z_mbl_asym_1\n",
      "vr_4_mbl_asym_2 = cr_z_mbl_asym_2\n",
      "\n",
      "vr_4_points = [ [vr_4_met_sig_1, vr_4_mbl_asym_1]\n",
      "              , [vr_4_met_sig_1, vr_4_mbl_asym_2]\n",
      "              , [vr_4_met_sig_2, vr_4_mbl_asym_2]\n",
      "              , [vr_4_met_sig_2, vr_4_mbl_asym_1]\n",
      "              ]"
     ],
     "language": "python",
     "metadata": {},
     "outputs": [],
     "prompt_number": 9
    },
    {
     "cell_type": "markdown",
     "metadata": {},
     "source": [
      "## Validation Region 5\n",
      "### Selection:\n",
      "- Z selection\n",
      "- hT < 1100 GeV\n",
      "- mbl asymmetry > 0.4"
     ]
    },
    {
     "cell_type": "code",
     "collapsed": false,
     "input": [
      "vr_5_met_sig_1  = met_sig_min\n",
      "vr_5_met_sig_2  = met_sig_max\n",
      "vr_5_mbl_asym_1 = cr_z_mbl_asym_2\n",
      "vr_5_mbl_asym_2 = mbl_asym_max\n",
      "\n",
      "vr_5_points = [ [vr_5_met_sig_1, vr_5_mbl_asym_1]\n",
      "              , [vr_5_met_sig_1, vr_5_mbl_asym_2]\n",
      "              , [vr_5_met_sig_2, vr_5_mbl_asym_2]\n",
      "              , [vr_5_met_sig_2, vr_5_mbl_asym_1]\n",
      "              ]"
     ],
     "language": "python",
     "metadata": {},
     "outputs": [],
     "prompt_number": 10
    },
    {
     "cell_type": "markdown",
     "metadata": {},
     "source": [
      "Region breakdown for:\n",
      "---------------------\n",
      "\n",
      "$h_T \\ge 600$ GeV\n",
      "\n",
      "Z region: Veto"
     ]
    },
    {
     "cell_type": "code",
     "collapsed": false,
     "input": [
      "plt.axis([met_sig_min, met_sig_max, mbl_asym_min, mbl_asym_max])\n",
      "\n",
      "plt.title('Region Breakdown -- $h_{T}$ > 600 GeV and pass Z-veto')\n",
      "plt.xlabel('$E_{T}^{miss}$ significance [$GeV^{1/2}$]')\n",
      "plt.ylabel('$m_{b\\ell}$ asymmetry')\n",
      "\n",
      "sr_region = plt.Polygon(sr_points, fill='b', alpha=0.2, label = 'SR')\n",
      "plt.gca().add_patch(sr_region)\n",
      "\n",
      "plt.legend(loc='upper right')\n",
      "plt.savefig('regions__ht_ge_600__z_veto.png')"
     ],
     "language": "python",
     "metadata": {},
     "outputs": [
      {
       "metadata": {},
       "output_type": "display_data",
       "png": "[encoded data removed]",
       "text": [
        "<matplotlib.figure.Figure at 0x105ebce50>"
       ]
      }
     ],
     "prompt_number": 11
    },
    {
     "cell_type": "markdown",
     "metadata": {},
     "source": [
      "Region breakdown for:\n",
      "---------------------\n",
      "\n",
      "$h_T \\le 600$ GeV\n",
      "\n",
      "Z region: Veto"
     ]
    },
    {
     "cell_type": "code",
     "collapsed": false,
     "input": [
      "plt.axis([met_sig_min, met_sig_max, mbl_asym_min, mbl_asym_max])\n",
      "\n",
      "plt.title('Region Breakdown -- $h_{T}$ < 600 GeV and pass Z-veto')\n",
      "plt.xlabel('$E_{T}^{miss}$ significance [$GeV^{1/2}$]')\n",
      "plt.ylabel('$m_{b\\ell}$ asymmetry')\n",
      "\n",
      "cr_top_region = plt.Polygon(cr_top_points, fc='b', alpha=0.2, label = 'CRTOP')\n",
      "vr_1_region   = plt.Polygon(vr_1_points  , fc='g', alpha=0.2, label = 'VR1'  )\n",
      "vr_2_region   = plt.Polygon(vr_2_points  , fc='r', alpha=0.2, label = 'VR2'  )\n",
      "vr_3_region   = plt.Polygon(vr_3_points  , fc='c', alpha=0.2, label = 'VR3'  )\n",
      "\n",
      "plt.gca().add_patch(cr_top_region)\n",
      "plt.gca().add_patch(vr_1_region)\n",
      "plt.gca().add_patch(vr_2_region)\n",
      "plt.gca().add_patch(vr_3_region)\n",
      "\n",
      "plt.legend(loc='upper right')\n",
      "plt.savefig('regions__ht_le_600__z_veto.png')"
     ],
     "language": "python",
     "metadata": {},
     "outputs": [
      {
       "metadata": {},
       "output_type": "display_data",
       "png": "[encoded data removed]",
       "text": [
        "<matplotlib.figure.Figure at 0x105fe2f10>"
       ]
      }
     ],
     "prompt_number": 12
    },
    {
     "cell_type": "markdown",
     "metadata": {},
     "source": [
      "Region breakdown for:\n",
      "---------------------\n",
      "\n",
      "$h_T \\le 600$ GeV\n",
      "\n",
      "Z region: Select"
     ]
    },
    {
     "cell_type": "code",
     "collapsed": false,
     "input": [
      "plt.axis([met_sig_min, met_sig_max, mbl_asym_min, mbl_asym_max])\n",
      "\n",
      "plt.title('Region Breakdown -- $h_{T}$ < 600 GeV and fail Z-veto')\n",
      "plt.xlabel('$E_{T}^{miss}$ significance [$GeV^{1/2}$]')\n",
      "plt.ylabel('$m_{b\\ell}$ asymmetry')\n",
      "\n",
      "cr_z_region = plt.Polygon(cr_z_points, fc='b', alpha=0.2, label = 'CRZ')\n",
      "vr_4_region = plt.Polygon(vr_4_points, fc='g', alpha=0.2, label = 'VR4')\n",
      "vr_5_region = plt.Polygon(vr_5_points, fc='r', alpha=0.2, label = 'VR5')\n",
      "\n",
      "plt.gca().add_patch(cr_z_region)\n",
      "plt.gca().add_patch(vr_4_region)\n",
      "plt.gca().add_patch(vr_5_region)\n",
      "\n",
      "plt.legend(loc='upper right')\n",
      "plt.savefig('regions__ht_le_600__z_select.png')"
     ],
     "language": "python",
     "metadata": {},
     "outputs": [
      {
       "metadata": {},
       "output_type": "display_data",
       "png": "[encoded data removed]",
       "text": [
        "<matplotlib.figure.Figure at 0x105ebcc10>"
       ]
      }
     ],
     "prompt_number": 13
    }
   ],
   "metadata": {}
  }
 ]
}