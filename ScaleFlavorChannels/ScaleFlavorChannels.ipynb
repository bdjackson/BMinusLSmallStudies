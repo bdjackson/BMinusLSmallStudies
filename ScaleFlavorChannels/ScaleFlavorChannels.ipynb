{
 "metadata": {
  "name": "",
  "signature": "sha256:fb6760573747807691284c54d5f425b9cafdae41d68d2cefd306d3d2e3435325"
 },
 "nbformat": 3,
 "nbformat_minor": 0,
 "worksheets": [
  {
   "cells": [
    {
     "cell_type": "markdown",
     "metadata": {},
     "source": [
      "# ScaleFlavorChannels\n",
      "\n",
      "This is a simple script to scale flavor channels based on the branching fractions to be tested. It should be ported into the limit setting code in PennSusyFrame."
     ]
    },
    {
     "cell_type": "markdown",
     "metadata": {},
     "source": [
      "## Define the nominal values for the branching ratios which are simulated"
     ]
    },
    {
     "cell_type": "code",
     "collapsed": false,
     "input": [
      "nominal_bf_e = 0.5\n",
      "nominal_br_m = 0.5\n",
      "nominal_br_t = 0."
     ],
     "language": "python",
     "metadata": {},
     "outputs": [],
     "prompt_number": 1
    },
    {
     "cell_type": "markdown",
     "metadata": {},
     "source": [
      "### getBranchingFractions\n",
      "\n",
      "The followingfunction takes two branching ratios (br_e, br_m) and computes the branching fraction to each of the di-lepton flavor channels"
     ]
    },
    {
     "cell_type": "code",
     "collapsed": false,
     "input": [
      "def getBranchingFractions(br_e, br_m, br_t):\n",
      "    bf_ee = br_e*br_e\n",
      "    bf_mm = br_m*br_m\n",
      "    bf_tt = br_t*br_t\n",
      "    bf_em = 2*br_e*br_m\n",
      "    bf_et = 2*br_e*br_t\n",
      "    bf_mt = 2*br_m*br_t\n",
      "    \n",
      "    return {'ee':bf_ee, 'mm':bf_mm, 'tt':bf_tt, 'em':bf_em, 'et':bf_et, 'mt':bf_mt}"
     ],
     "language": "python",
     "metadata": {},
     "outputs": [],
     "prompt_number": 2
    },
    {
     "cell_type": "markdown",
     "metadata": {},
     "source": [
      "### drawBranchingFractionSquare\n",
      "\n",
      "Draw box with branching fractions given set of branching fractions or branching ratios"
     ]
    },
    {
     "cell_type": "code",
     "collapsed": false,
     "input": [
      "def drawBranchingFractionSquare(br_dict):\n",
      "    print '               subleading lepton'\n",
      "    print '               e             m             t'\n",
      "    print '          ----------------------------------------'\n",
      "    print 'leading e |  ee: %0.2f  |  em: %0.2f  |  et: %0.2f  |' % (br_dict['ee']   , br_dict['em']/2., br_dict['et']/2.)\n",
      "    print '             -------------------------------------'\n",
      "    print 'lepton  m |  me: %0.2f  |  mm: %0.2f  |  mt: %0.2f  |' % (br_dict['em']/2., br_dict['mm']   , br_dict['mt']/2.)\n",
      "    print '          ----------------------------------------'\n",
      "    print 'lepton  t |  te: %0.2f  |  tm: %0.2f  |  tt: %0.2f  |' % (br_dict['mt']/2., br_dict['mt']/2., br_dict['tt']   )\n",
      "    print '          ----------------------------------------'\n",
      "    print ''\n",
      "def drawBranchingFractionSquareFromBR(br_e, br_m, br_t):\n",
      "    drawBranchingFractionSquare(getBranchingFractions(br_e, br_m, br_t))"
     ],
     "language": "python",
     "metadata": {},
     "outputs": [],
     "prompt_number": 3
    },
    {
     "cell_type": "markdown",
     "metadata": {},
     "source": [
      "#### Test the branching fractions are reasonable"
     ]
    },
    {
     "cell_type": "code",
     "collapsed": false,
     "input": [
      "drawBranchingFractionSquareFromBR(0.5  , 0.5  , 0.)\n",
      "drawBranchingFractionSquareFromBR(0.333, 0.333, 0.)"
     ],
     "language": "python",
     "metadata": {},
     "outputs": [
      {
       "output_type": "stream",
       "stream": "stdout",
       "text": [
        "               subleading lepton\n",
        "               e             m             t\n",
        "          ----------------------------------------\n",
        "leading e |  ee: 0.25  |  em: 0.25  |  et: 0.00  |\n",
        "             -------------------------------------\n",
        "lepton  m |  me: 0.25  |  mm: 0.25  |  mt: 0.00  |\n",
        "          ----------------------------------------\n",
        "lepton  t |  te: 0.00  |  tm: 0.00  |  tt: 0.00  |\n",
        "          ----------------------------------------\n",
        "\n",
        "               subleading lepton\n",
        "               e             m             t\n",
        "          ----------------------------------------\n",
        "leading e |  ee: 0.11  |  em: 0.11  |  et: 0.00  |\n",
        "             -------------------------------------\n",
        "lepton  m |  me: 0.11  |  mm: 0.11  |  mt: 0.00  |\n",
        "          ----------------------------------------\n",
        "lepton  t |  te: 0.00  |  tm: 0.00  |  tt: 0.00  |\n",
        "          ----------------------------------------\n",
        "\n"
       ]
      }
     ],
     "prompt_number": 4
    },
    {
     "cell_type": "markdown",
     "metadata": {},
     "source": [
      "### getFlavorScaleFactors\n",
      "\n",
      "Function to get scale factors describing how to scale each flavor channel up and down"
     ]
    },
    {
     "cell_type": "code",
     "collapsed": false,
     "input": [
      "def getFlavorScaleFactors(bf_dict):\n",
      "    nominal_bf = getBranchingFractions(nominal_bf_e, nominal_br_m, nominal_br_t)\n",
      "    scale_factor_dict = {}\n",
      "    for fc in bf_dict:\n",
      "        scale_factor_dict[fc] = bf_dict[fc]/nominal_bf[fc] if nominal_bf[fc] != 0 else 0\n",
      "    return scale_factor_dict\n",
      "def getFlavorScaleFactorsFromBR(br_e, br_m, br_t):\n",
      "    return getFlavorScaleFactors(getBranchingFractions(br_e, br_m, br_t))"
     ],
     "language": "python",
     "metadata": {},
     "outputs": [],
     "prompt_number": 5
    },
    {
     "cell_type": "code",
     "collapsed": false,
     "input": [
      "print getFlavorScaleFactorsFromBR(0.5  , 0.5  , 0.)\n",
      "print getFlavorScaleFactorsFromBR(0.333, 0.333, 0.)"
     ],
     "language": "python",
     "metadata": {},
     "outputs": [
      {
       "output_type": "stream",
       "stream": "stdout",
       "text": [
        "{'em': 1.0, 'mm': 1.0, 'ee': 1.0, 'tt': 0, 'mt': 0, 'et': 0}\n",
        "{'em': 0.44355600000000006, 'mm': 0.44355600000000006, 'ee': 0.44355600000000006, 'tt': 0, 'mt': 0, 'et': 0}\n"
       ]
      }
     ],
     "prompt_number": 6
    },
    {
     "cell_type": "markdown",
     "metadata": {},
     "source": [
      "## Set up environment for plotting\n"
     ]
    },
    {
     "cell_type": "code",
     "collapsed": false,
     "input": [
      "%matplotlib inline\n",
      "import matplotlib as mp\n",
      "import matplotlib.pyplot as plt\n",
      "import numpy as np\n",
      "mp.rcParams['text.usetex']=True"
     ],
     "language": "python",
     "metadata": {},
     "outputs": [],
     "prompt_number": 7
    },
    {
     "cell_type": "markdown",
     "metadata": {},
     "source": [
      "### cleanBFGrid\n",
      "\n",
      "Function to take a set of grid points, and remove any that are none-physical. i.e. \\begin{equation*} \\sum Br < 0 \\,\\, \\mathrm{ or } \\,\\, \\sum Br > 1 \\end{equation*}"
     ]
    },
    {
     "cell_type": "code",
     "collapsed": false,
     "input": [
      "def cleanBFGrid(x_bf, y_bf, z_bf):\n",
      "    for i in xrange(len(x_bf)):\n",
      "        for j in xrange(len(x_bf[i])):\n",
      "            if x_bf[i][j] + y_bf[i][j] > 1. or x_bf[i][j] + y_bf[i][j] < 0.:\n",
      "                z_bf[i][j] = -10\n",
      "    return z_bf"
     ],
     "language": "python",
     "metadata": {},
     "outputs": [],
     "prompt_number": 8
    },
    {
     "cell_type": "markdown",
     "metadata": {},
     "source": [
      "### computeBranchingFractionGrid\n",
      "\n",
      "Return a (cleaned) grid with branching fractions for a given flavor channel"
     ]
    },
    {
     "cell_type": "code",
     "collapsed": false,
     "input": [
      "def computeBranchingFractionGrid(br_e, br_t, flavor_channel):\n",
      "    br_m = 1-br_e-br_t\n",
      "\n",
      "    branching_fractions = getBranchingFractions(br_e, br_m, br_t)\n",
      "    bf_grid = branching_fractions[flavor_channel]\n",
      "    bf_grid = cleanBFGrid(br_e, br_t, bf_grid)\n",
      "    return bf_grid"
     ],
     "language": "python",
     "metadata": {},
     "outputs": [],
     "prompt_number": 9
    },
    {
     "cell_type": "markdown",
     "metadata": {},
     "source": [
      "### computeScaleFactorGrid\n",
      "\n",
      "Return a (cleaned) grid with scale factors for a given flavor channel"
     ]
    },
    {
     "cell_type": "code",
     "collapsed": false,
     "input": [
      "def computeScaleFactorGrid(br_e, br_t, flavor_channel):\n",
      "    br_m = 1-br_e-br_t\n",
      "\n",
      "    scale_factors = getFlavorScaleFactorsFromBR(br_e, br_m, br_t)\n",
      "    sf_grid = scale_factors[flavor_channel]\n",
      "    sf_grid = cleanBFGrid(br_e, br_t, sf_grid)\n",
      "    return sf_grid"
     ],
     "language": "python",
     "metadata": {},
     "outputs": [],
     "prompt_number": 10
    },
    {
     "cell_type": "markdown",
     "metadata": {},
     "source": [
      "## Prepare for plotting\n",
      "\n",
      "Create linespace and meshgrid for the possible branching ratios"
     ]
    },
    {
     "cell_type": "code",
     "collapsed": false,
     "input": [
      "br_e_ls = np.linspace(0, 1, 100)\n",
      "br_t_ls = np.linspace(0, 1, 100)\n",
      "\n",
      "x_bf, y_bf = np.meshgrid(br_e_ls, br_t_ls)"
     ],
     "language": "python",
     "metadata": {},
     "outputs": [],
     "prompt_number": 11
    },
    {
     "cell_type": "markdown",
     "metadata": {},
     "source": [
      "### Branching fraction plots\n",
      "\n",
      "Compute branching fractions"
     ]
    },
    {
     "cell_type": "code",
     "collapsed": false,
     "input": [
      "z_bf_ee = computeBranchingFractionGrid(x_bf, y_bf, 'ee')\n",
      "z_bf_mm = computeBranchingFractionGrid(x_bf, y_bf, 'mm')\n",
      "z_bf_em = computeBranchingFractionGrid(x_bf, y_bf, 'em')"
     ],
     "language": "python",
     "metadata": {},
     "outputs": [],
     "prompt_number": 12
    },
    {
     "cell_type": "markdown",
     "metadata": {},
     "source": [
      "#### Plot branching fractions for each flavor channel"
     ]
    },
    {
     "cell_type": "code",
     "collapsed": false,
     "input": [
      "fig, axes = plt.subplots(1, 3, figsize=(20,5))\n",
      "\n",
      "axes[0].set_title(r'Branching fraction of \\tilde{t}\\tilde{t}^{*} \\rightarrow bbee')\n",
      "axes[1].set_title(r'Branching fraction of \\tilde{t}\\tilde{t}^{*} \\rightarrow bb\\mu\\mu')\n",
      "axes[2].set_title(r'Branching fraction of \\tilde{t}\\tilde{t}^{*} \\rightarrow bbe\\mu')\n",
      "\n",
      "for a in axes:\n",
      "    a.set_xlabel(r'Br(\\tilde{t} \\rightarrow be)')\n",
      "    a.set_ylabel(r'Br(\\tilde{t} \\rightarrow b\\tau)')\n",
      "    \n",
      "p_ee  = axes[0].pcolor(x_bf, y_bf, z_bf_ee, cmap=plt.cm.gist_heat_r, vmin=0, vmax=1.)\n",
      "p_mm  = axes[1].pcolor(x_bf, y_bf, z_bf_mm, cmap=plt.cm.gist_heat_r, vmin=0, vmax=1.)\n",
      "p_em  = axes[2].pcolor(x_bf, y_bf, z_bf_em, cmap=plt.cm.gist_heat_r, vmin=0, vmax=1.)\n",
      "\n",
      "cb_ee = fig.colorbar(p_ee, ax=axes[0])\n",
      "cb_mm = fig.colorbar(p_mm, ax=axes[1])\n",
      "cb_em = fig.colorbar(p_em, ax=axes[2])\n",
      "\n",
      "plt.savefig('branching_fractions.png', bbox_inches='tight')"
     ],
     "language": "python",
     "metadata": {},
     "outputs": [
      {
       "metadata": {},
       "output_type": "display_data",
       "png": "[encoded data removed]",
       "text": [
        "<matplotlib.figure.Figure at 0x105eab5d0>"
       ]
      }
     ],
     "prompt_number": 13
    },
    {
     "cell_type": "markdown",
     "metadata": {},
     "source": [
      "## Scale factor plots\n",
      "\n",
      "Compute scale factors"
     ]
    },
    {
     "cell_type": "code",
     "collapsed": false,
     "input": [
      "z_sf_ee = computeScaleFactorGrid(x_bf, y_bf, 'ee')\n",
      "z_sf_mm = computeScaleFactorGrid(x_bf, y_bf, 'mm')\n",
      "z_sf_em = computeScaleFactorGrid(x_bf, y_bf, 'em')"
     ],
     "language": "python",
     "metadata": {},
     "outputs": [],
     "prompt_number": 14
    },
    {
     "cell_type": "markdown",
     "metadata": {},
     "source": [
      "#### Plot scale factors for each flavor channel"
     ]
    },
    {
     "cell_type": "code",
     "collapsed": false,
     "input": [
      "fig, axes = plt.subplots(1, 3, figsize=(20,5))\n",
      "\n",
      "axes[0].set_title(r'Scale factor for \\tilde{t}\\tilde{t}^{*} \\rightarrow bbee')\n",
      "axes[1].set_title(r'Scale factor for \\tilde{t}\\tilde{t}^{*} \\rightarrow bb\\mu\\mu')\n",
      "axes[2].set_title(r'Scale factor for \\tilde{t}\\tilde{t}^{*} \\rightarrow bbe\\mu')\n",
      "\n",
      "for a in axes:\n",
      "    a.set_xlabel(r'Br(\\tilde{t} \\rightarrow be)')\n",
      "    a.set_ylabel(r'Br(\\tilde{t} \\rightarrow b\\tau)')\n",
      "    \n",
      "p_ee  = axes[0].pcolor(x_bf, y_bf, z_sf_ee, cmap=plt.cm.gist_heat_r, vmin=0, vmax=4.)\n",
      "p_mm  = axes[1].pcolor(x_bf, y_bf, z_sf_mm, cmap=plt.cm.gist_heat_r, vmin=0, vmax=4.)\n",
      "p_em  = axes[2].pcolor(x_bf, y_bf, z_sf_em, cmap=plt.cm.gist_heat_r, vmin=0, vmax=4.)\n",
      "\n",
      "cb_ee = fig.colorbar(p_ee, ax=axes[0])\n",
      "cb_mm = fig.colorbar(p_mm, ax=axes[1])\n",
      "cb_em = fig.colorbar(p_em, ax=axes[2])\n",
      "\n",
      "plt.savefig('scale_factors.png', bbox_inches='tight')"
     ],
     "language": "python",
     "metadata": {},
     "outputs": [
      {
       "metadata": {},
       "output_type": "display_data",
       "png": "[encoded data removed]",
       "text": [
        "<matplotlib.figure.Figure at 0x108d7ffd0>"
       ]
      }
     ],
     "prompt_number": 15
    },
    {
     "cell_type": "code",
     "collapsed": false,
     "input": [],
     "language": "python",
     "metadata": {},
     "outputs": [],
     "prompt_number": 15
    }
   ],
   "metadata": {}
  }
 ]
}