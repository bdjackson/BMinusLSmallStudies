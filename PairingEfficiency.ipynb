{
 "metadata": {
  "name": "",
  "signature": "sha256:c5aa544a404ce48524955afd62b903c5b2b14fe7d091d93d04af5640cf81e87c"
 },
 "nbformat": 3,
 "nbformat_minor": 0,
 "worksheets": [
  {
   "cells": [
    {
     "cell_type": "markdown",
     "metadata": {},
     "source": [
      "# Pairing Efficiecny\n"
     ]
    },
    {
     "cell_type": "code",
     "collapsed": false,
     "input": [
      "import glob\n",
      "import ROOT\n",
      "import pandas\n",
      "import re\n",
      "\n",
      "%matplotlib inline\n",
      "import matplotlib as mp\n",
      "import matplotlib.pyplot as plt\n",
      "import numpy as np\n",
      "\n",
      "mp.rcParams['text.usetex']=True"
     ],
     "language": "python",
     "metadata": {},
     "outputs": [],
     "prompt_number": 11
    },
    {
     "cell_type": "markdown",
     "metadata": {},
     "source": [
      "## Input files\n",
      "Collect a list of input files"
     ]
    },
    {
     "cell_type": "code",
     "collapsed": false,
     "input": [
      "in_file_dir = 'PairingEfficiency/NextPlotDir.BMinusL.DetailedSignal.NOMINAL'\n",
      "in_file_list = glob.glob('/'.join([in_file_dir,'*']))\n",
      "\n",
      "in_file_dict = {int(re.sub(r'.*directBL_(\\d+)_.*root', r'\\1', f)):f\n",
      "                for f in in_file_list if 'dummy' not in f}"
     ],
     "language": "python",
     "metadata": {},
     "outputs": [],
     "prompt_number": 12
    },
    {
     "cell_type": "markdown",
     "metadata": {},
     "source": [
      "## Define helper functions\n",
      "First, define a function to construct a data frame of the efficiencies for each mass point (file). The function takes as input the selection level which corresponds to a directory in the root files, and gets the bin contents from the `num_same_parent_pairing` historgram."
     ]
    },
    {
     "cell_type": "code",
     "collapsed": false,
     "input": [
      "def getPairingEfficiencies(selection_level = 'BMINUSL_BL_PAIRING'):\n",
      "    eff_df = pandas.DataFrame(columns = ('mass', '0 pairs', '1 pair', '2 pairs'))\n",
      "    for mass, file_name in in_file_dict.items():\n",
      "        # extract the histogram from the file and directory\n",
      "        f = ROOT.TFile.Open(file_name)\n",
      "        d = f.Get(selection_level)\n",
      "        h = d.Get('__'.join(['flavor_all',\n",
      "                             'num_same_parent_pairing',\n",
      "                             selection_level]))\n",
      "        \n",
      "        # if there are low statistics in this selection, ignore this mass point\n",
      "        num_entries = h.GetEntries()\n",
      "        if num_entries < 10:\n",
      "            continue\n",
      "        \n",
      "        # Get the efficiencies for each bin\n",
      "        norm = h.Integral()\n",
      "        if norm == 0:\n",
      "            norm = 1.\n",
      "        this_df_entry = [mass,\n",
      "                         h.GetBinContent(1)/norm,\n",
      "                         h.GetBinContent(2)/norm,\n",
      "                         h.GetBinContent(3)/norm]\n",
      "        eff_df.loc[eff_df.shape[0]] = this_df_entry\n",
      "\n",
      "    # set mass column to be the index\n",
      "    eff_df = eff_df.set_index('mass')\n",
      "    # sort by mass\n",
      "    eff_df = eff_df.sort()\n",
      "    \n",
      "    return eff_df"
     ],
     "language": "python",
     "metadata": {},
     "outputs": [],
     "prompt_number": 13
    },
    {
     "cell_type": "markdown",
     "metadata": {},
     "source": [
      "The following is a function which takes a selection level (again corresponding to the directory in the root files), and creates a histogram of the pairing efficiency. This function calls the `getPairingEfficiencies` function, and plots these values."
     ]
    },
    {
     "cell_type": "code",
     "collapsed": false,
     "input": [
      "def plotPairingEfficiencies(selection_level = 'BMINUSL_BL_PAIRING',\n",
      "                            label = 'Inclusive selection',\n",
      "                            label_x = 500,\n",
      "                            label_y = 0.95):\n",
      "    # get pairing efficiencies\n",
      "    eff_df = getPairingEfficiencies(selection_level = selection_level)\n",
      "\n",
      "    # plot the efficiencies for this selection, and get the figure\n",
      "    ax = eff_df.plot(ylim = (0,1))\n",
      "    fig = ax.get_figure()\n",
      "\n",
      "    # make plot pretty!\n",
      "    plt.xlabel('Stop mass [GeV]', fontsize = 14)\n",
      "    plt.ylabel('Pairing efficiency', fontsize = 14)\n",
      "    plt.grid(b = False)\n",
      "\n",
      "    # add label if one is specified\n",
      "    if label is not None:\n",
      "        plt.text(label_x, label_y, label,\n",
      "                verticalalignment = 'top',\n",
      "                horizontalalignment = 'center',\n",
      "                fontsize = 14)\n",
      "\n",
      "    # return figure so we can print it\n",
      "    return fig"
     ],
     "language": "python",
     "metadata": {},
     "outputs": [],
     "prompt_number": 14
    },
    {
     "cell_type": "markdown",
     "metadata": {},
     "source": [
      "## Plot the pairing efficiencies\n",
      "First, we plot the pairing efficiency for the inclusive selection (bbll selection)"
     ]
    },
    {
     "cell_type": "code",
     "collapsed": false,
     "input": [
      "eff_fig = plotPairingEfficiencies(selection_level = 'BMINUSL_BL_PAIRING',\n",
      "                                  label = 'Inclusive selection')"
     ],
     "language": "python",
     "metadata": {},
     "outputs": [
      {
       "metadata": {},
       "output_type": "display_data",
       "png": "[encoded data removed]",
       "text": [
        "<matplotlib.figure.Figure at 0x10c7c7f90>"
       ]
      }
     ],
     "prompt_number": 15
    },
    {
     "cell_type": "code",
     "collapsed": false,
     "input": [
      "eff_fig.savefig('pairing_eff__inclusive.png',\n",
      "            bbox_inches='tight',\n",
      "            dpi=300)\n",
      "eff_fig.savefig('pairing_eff__inclusive.pdf',\n",
      "            bbox_inches='tight')"
     ],
     "language": "python",
     "metadata": {},
     "outputs": [],
     "prompt_number": 16
    },
    {
     "cell_type": "markdown",
     "metadata": {},
     "source": [
      "Next, plot the pairing efficiency for the signal region"
     ]
    },
    {
     "cell_type": "code",
     "collapsed": false,
     "input": [
      "eff_fig = plotPairingEfficiencies(selection_level = 'BMINUSL_SR',\n",
      "                                  label = 'Signal Region',\n",
      "                                  label_x = 600)"
     ],
     "language": "python",
     "metadata": {},
     "outputs": [
      {
       "metadata": {},
       "output_type": "display_data",
       "png": "[encoded data removed]",
       "text": [
        "<matplotlib.figure.Figure at 0x10b703650>"
       ]
      }
     ],
     "prompt_number": 17
    },
    {
     "cell_type": "code",
     "collapsed": false,
     "input": [
      "eff_fig.savefig('pairing_eff__sr.png',\n",
      "            bbox_inches='tight',\n",
      "            dpi=300)\n",
      "eff_fig.savefig('pairing_eff__sr.pdf',\n",
      "            bbox_inches='tight')"
     ],
     "language": "python",
     "metadata": {},
     "outputs": [],
     "prompt_number": 18
    },
    {
     "cell_type": "code",
     "collapsed": false,
     "input": [
      "eff_fig = plotPairingEfficiencies(selection_level = 'BMINUSL_SR_TIGHT_MBL_ASYM',\n",
      "                                  label = 'Signal Region ($m_{b\\ell}$ asymmetry $\\le$ 0.2)',\n",
      "                                  label_x = 600)"
     ],
     "language": "python",
     "metadata": {},
     "outputs": [
      {
       "metadata": {},
       "output_type": "display_data",
       "png": "[encoded data removed]",
       "text": [
        "<matplotlib.figure.Figure at 0x10cd72350>"
       ]
      }
     ],
     "prompt_number": 21
    },
    {
     "cell_type": "code",
     "collapsed": false,
     "input": [
      "eff_fig.savefig('pairing_eff__sr_tight_mbl_asym.png',\n",
      "            bbox_inches='tight',\n",
      "            dpi=300)\n",
      "eff_fig.savefig('pairing_eff__sr_tight_mbl_asym.pdf',\n",
      "            bbox_inches='tight')"
     ],
     "language": "python",
     "metadata": {},
     "outputs": [],
     "prompt_number": 22
    },
    {
     "cell_type": "code",
     "collapsed": false,
     "input": [],
     "language": "python",
     "metadata": {},
     "outputs": []
    }
   ],
   "metadata": {}
  }
 ]
}